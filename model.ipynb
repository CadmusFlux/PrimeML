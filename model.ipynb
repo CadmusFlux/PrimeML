{
 "cells": [
  {
   "cell_type": "markdown",
   "source": "# Importing dependencies",
   "metadata": {
    "tags": [],
    "cell_id": "00001-ec364543-9aa2-4252-9e19-7c0764eccbf3",
    "deepnote_cell_type": "markdown"
   }
  },
  {
   "cell_type": "code",
   "metadata": {
    "tags": [],
    "cell_id": "00000-1811004e-71aa-49bb-88d7-b3eb4119ea54",
    "deepnote_to_be_reexecuted": false,
    "source_hash": "918db4d4",
    "execution_start": 1622145284330,
    "execution_millis": 2182,
    "deepnote_cell_type": "code"
   },
   "source": "import numpy as np\nimport pandas as pd\nfrom sklearn.linear_model import LinearRegression\nimport matplotlib.pyplot as plt",
   "execution_count": 1,
   "outputs": []
  },
  {
   "cell_type": "markdown",
   "source": "Csv to dataframe object",
   "metadata": {
    "tags": [],
    "cell_id": "00002-88ef2899-f707-464e-a212-1a464c6d6a55",
    "deepnote_cell_type": "markdown"
   }
  },
  {
   "cell_type": "code",
   "metadata": {
    "tags": [],
    "cell_id": "00001-da2df66f-b8d1-40bb-b7bb-383c3938ee76",
    "deepnote_to_be_reexecuted": false,
    "source_hash": "92945725",
    "execution_start": 1622145286516,
    "execution_millis": 11,
    "deepnote_cell_type": "code"
   },
   "source": "dataset = pd.read_csv(\"/work/PrimeML/dataset\")",
   "execution_count": 2,
   "outputs": []
  },
  {
   "cell_type": "code",
   "source": "dataset",
   "metadata": {
    "tags": [],
    "cell_id": "00004-50be47f4-46af-4778-a929-92090603d7f5",
    "deepnote_to_be_reexecuted": false,
    "source_hash": "10724ecb",
    "execution_start": 1622145286536,
    "execution_millis": 42,
    "deepnote_cell_type": "code"
   },
   "outputs": [
    {
     "output_type": "execute_result",
     "execution_count": 3,
     "data": {
      "application/vnd.deepnote.dataframe.v2+json": {
       "row_count": 1998,
       "column_count": 2,
       "columns": [
        {
         "name": "numbers",
         "dtype": "int64",
         "stats": {
          "unique_count": 1998,
          "nan_count": 0,
          "min": "2",
          "max": "1999",
          "histogram": [
           {
            "bin_start": 2,
            "bin_end": 201.7,
            "count": 200
           },
           {
            "bin_start": 201.7,
            "bin_end": 401.4,
            "count": 200
           },
           {
            "bin_start": 401.4,
            "bin_end": 601.0999999999999,
            "count": 200
           },
           {
            "bin_start": 601.0999999999999,
            "bin_end": 800.8,
            "count": 199
           },
           {
            "bin_start": 800.8,
            "bin_end": 1000.5,
            "count": 200
           },
           {
            "bin_start": 1000.5,
            "bin_end": 1200.1999999999998,
            "count": 200
           },
           {
            "bin_start": 1200.1999999999998,
            "bin_end": 1399.8999999999999,
            "count": 199
           },
           {
            "bin_start": 1399.8999999999999,
            "bin_end": 1599.6,
            "count": 200
           },
           {
            "bin_start": 1599.6,
            "bin_end": 1799.3,
            "count": 200
           },
           {
            "bin_start": 1799.3,
            "bin_end": 1999,
            "count": 200
           }
          ]
         }
        },
        {
         "name": "prime",
         "dtype": "int64",
         "stats": {
          "unique_count": 2,
          "nan_count": 0,
          "min": "0",
          "max": "1",
          "histogram": [
           {
            "bin_start": 0,
            "bin_end": 0.1,
            "count": 1695
           },
           {
            "bin_start": 0.1,
            "bin_end": 0.2,
            "count": 0
           },
           {
            "bin_start": 0.2,
            "bin_end": 0.30000000000000004,
            "count": 0
           },
           {
            "bin_start": 0.30000000000000004,
            "bin_end": 0.4,
            "count": 0
           },
           {
            "bin_start": 0.4,
            "bin_end": 0.5,
            "count": 0
           },
           {
            "bin_start": 0.5,
            "bin_end": 0.6000000000000001,
            "count": 0
           },
           {
            "bin_start": 0.6000000000000001,
            "bin_end": 0.7000000000000001,
            "count": 0
           },
           {
            "bin_start": 0.7000000000000001,
            "bin_end": 0.8,
            "count": 0
           },
           {
            "bin_start": 0.8,
            "bin_end": 0.9,
            "count": 0
           },
           {
            "bin_start": 0.9,
            "bin_end": 1,
            "count": 303
           }
          ]
         }
        },
        {
         "name": "_deepnote_index_column",
         "dtype": "int64"
        }
       ],
       "rows_top": [
        {
         "numbers": 2,
         "prime": 1,
         "_deepnote_index_column": 0
        },
        {
         "numbers": 3,
         "prime": 1,
         "_deepnote_index_column": 1
        },
        {
         "numbers": 4,
         "prime": 0,
         "_deepnote_index_column": 2
        },
        {
         "numbers": 5,
         "prime": 1,
         "_deepnote_index_column": 3
        },
        {
         "numbers": 6,
         "prime": 0,
         "_deepnote_index_column": 4
        },
        {
         "numbers": 7,
         "prime": 1,
         "_deepnote_index_column": 5
        },
        {
         "numbers": 8,
         "prime": 0,
         "_deepnote_index_column": 6
        },
        {
         "numbers": 9,
         "prime": 0,
         "_deepnote_index_column": 7
        },
        {
         "numbers": 10,
         "prime": 0,
         "_deepnote_index_column": 8
        },
        {
         "numbers": 11,
         "prime": 1,
         "_deepnote_index_column": 9
        },
        {
         "numbers": 12,
         "prime": 0,
         "_deepnote_index_column": 10
        },
        {
         "numbers": 13,
         "prime": 1,
         "_deepnote_index_column": 11
        },
        {
         "numbers": 14,
         "prime": 0,
         "_deepnote_index_column": 12
        },
        {
         "numbers": 15,
         "prime": 0,
         "_deepnote_index_column": 13
        },
        {
         "numbers": 16,
         "prime": 0,
         "_deepnote_index_column": 14
        },
        {
         "numbers": 17,
         "prime": 1,
         "_deepnote_index_column": 15
        },
        {
         "numbers": 18,
         "prime": 0,
         "_deepnote_index_column": 16
        },
        {
         "numbers": 19,
         "prime": 1,
         "_deepnote_index_column": 17
        },
        {
         "numbers": 20,
         "prime": 0,
         "_deepnote_index_column": 18
        },
        {
         "numbers": 21,
         "prime": 0,
         "_deepnote_index_column": 19
        },
        {
         "numbers": 22,
         "prime": 0,
         "_deepnote_index_column": 20
        },
        {
         "numbers": 23,
         "prime": 1,
         "_deepnote_index_column": 21
        },
        {
         "numbers": 24,
         "prime": 0,
         "_deepnote_index_column": 22
        },
        {
         "numbers": 25,
         "prime": 0,
         "_deepnote_index_column": 23
        },
        {
         "numbers": 26,
         "prime": 0,
         "_deepnote_index_column": 24
        },
        {
         "numbers": 27,
         "prime": 0,
         "_deepnote_index_column": 25
        },
        {
         "numbers": 28,
         "prime": 0,
         "_deepnote_index_column": 26
        },
        {
         "numbers": 29,
         "prime": 1,
         "_deepnote_index_column": 27
        },
        {
         "numbers": 30,
         "prime": 0,
         "_deepnote_index_column": 28
        },
        {
         "numbers": 31,
         "prime": 1,
         "_deepnote_index_column": 29
        },
        {
         "numbers": 32,
         "prime": 0,
         "_deepnote_index_column": 30
        },
        {
         "numbers": 33,
         "prime": 0,
         "_deepnote_index_column": 31
        },
        {
         "numbers": 34,
         "prime": 0,
         "_deepnote_index_column": 32
        },
        {
         "numbers": 35,
         "prime": 0,
         "_deepnote_index_column": 33
        },
        {
         "numbers": 36,
         "prime": 0,
         "_deepnote_index_column": 34
        },
        {
         "numbers": 37,
         "prime": 1,
         "_deepnote_index_column": 35
        },
        {
         "numbers": 38,
         "prime": 0,
         "_deepnote_index_column": 36
        },
        {
         "numbers": 39,
         "prime": 0,
         "_deepnote_index_column": 37
        },
        {
         "numbers": 40,
         "prime": 0,
         "_deepnote_index_column": 38
        },
        {
         "numbers": 41,
         "prime": 1,
         "_deepnote_index_column": 39
        },
        {
         "numbers": 42,
         "prime": 0,
         "_deepnote_index_column": 40
        },
        {
         "numbers": 43,
         "prime": 1,
         "_deepnote_index_column": 41
        },
        {
         "numbers": 44,
         "prime": 0,
         "_deepnote_index_column": 42
        },
        {
         "numbers": 45,
         "prime": 0,
         "_deepnote_index_column": 43
        },
        {
         "numbers": 46,
         "prime": 0,
         "_deepnote_index_column": 44
        },
        {
         "numbers": 47,
         "prime": 1,
         "_deepnote_index_column": 45
        },
        {
         "numbers": 48,
         "prime": 0,
         "_deepnote_index_column": 46
        },
        {
         "numbers": 49,
         "prime": 0,
         "_deepnote_index_column": 47
        },
        {
         "numbers": 50,
         "prime": 0,
         "_deepnote_index_column": 48
        },
        {
         "numbers": 51,
         "prime": 0,
         "_deepnote_index_column": 49
        },
        {
         "numbers": 52,
         "prime": 0,
         "_deepnote_index_column": 50
        },
        {
         "numbers": 53,
         "prime": 1,
         "_deepnote_index_column": 51
        },
        {
         "numbers": 54,
         "prime": 0,
         "_deepnote_index_column": 52
        },
        {
         "numbers": 55,
         "prime": 0,
         "_deepnote_index_column": 53
        },
        {
         "numbers": 56,
         "prime": 0,
         "_deepnote_index_column": 54
        },
        {
         "numbers": 57,
         "prime": 0,
         "_deepnote_index_column": 55
        },
        {
         "numbers": 58,
         "prime": 0,
         "_deepnote_index_column": 56
        },
        {
         "numbers": 59,
         "prime": 1,
         "_deepnote_index_column": 57
        },
        {
         "numbers": 60,
         "prime": 0,
         "_deepnote_index_column": 58
        },
        {
         "numbers": 61,
         "prime": 1,
         "_deepnote_index_column": 59
        },
        {
         "numbers": 62,
         "prime": 0,
         "_deepnote_index_column": 60
        },
        {
         "numbers": 63,
         "prime": 0,
         "_deepnote_index_column": 61
        },
        {
         "numbers": 64,
         "prime": 0,
         "_deepnote_index_column": 62
        },
        {
         "numbers": 65,
         "prime": 0,
         "_deepnote_index_column": 63
        },
        {
         "numbers": 66,
         "prime": 0,
         "_deepnote_index_column": 64
        },
        {
         "numbers": 67,
         "prime": 1,
         "_deepnote_index_column": 65
        },
        {
         "numbers": 68,
         "prime": 0,
         "_deepnote_index_column": 66
        },
        {
         "numbers": 69,
         "prime": 0,
         "_deepnote_index_column": 67
        },
        {
         "numbers": 70,
         "prime": 0,
         "_deepnote_index_column": 68
        },
        {
         "numbers": 71,
         "prime": 1,
         "_deepnote_index_column": 69
        },
        {
         "numbers": 72,
         "prime": 0,
         "_deepnote_index_column": 70
        },
        {
         "numbers": 73,
         "prime": 1,
         "_deepnote_index_column": 71
        },
        {
         "numbers": 74,
         "prime": 0,
         "_deepnote_index_column": 72
        },
        {
         "numbers": 75,
         "prime": 0,
         "_deepnote_index_column": 73
        },
        {
         "numbers": 76,
         "prime": 0,
         "_deepnote_index_column": 74
        },
        {
         "numbers": 77,
         "prime": 0,
         "_deepnote_index_column": 75
        },
        {
         "numbers": 78,
         "prime": 0,
         "_deepnote_index_column": 76
        },
        {
         "numbers": 79,
         "prime": 1,
         "_deepnote_index_column": 77
        },
        {
         "numbers": 80,
         "prime": 0,
         "_deepnote_index_column": 78
        },
        {
         "numbers": 81,
         "prime": 0,
         "_deepnote_index_column": 79
        },
        {
         "numbers": 82,
         "prime": 0,
         "_deepnote_index_column": 80
        },
        {
         "numbers": 83,
         "prime": 1,
         "_deepnote_index_column": 81
        },
        {
         "numbers": 84,
         "prime": 0,
         "_deepnote_index_column": 82
        },
        {
         "numbers": 85,
         "prime": 0,
         "_deepnote_index_column": 83
        },
        {
         "numbers": 86,
         "prime": 0,
         "_deepnote_index_column": 84
        },
        {
         "numbers": 87,
         "prime": 0,
         "_deepnote_index_column": 85
        },
        {
         "numbers": 88,
         "prime": 0,
         "_deepnote_index_column": 86
        },
        {
         "numbers": 89,
         "prime": 1,
         "_deepnote_index_column": 87
        },
        {
         "numbers": 90,
         "prime": 0,
         "_deepnote_index_column": 88
        },
        {
         "numbers": 91,
         "prime": 0,
         "_deepnote_index_column": 89
        },
        {
         "numbers": 92,
         "prime": 0,
         "_deepnote_index_column": 90
        },
        {
         "numbers": 93,
         "prime": 0,
         "_deepnote_index_column": 91
        },
        {
         "numbers": 94,
         "prime": 0,
         "_deepnote_index_column": 92
        },
        {
         "numbers": 95,
         "prime": 0,
         "_deepnote_index_column": 93
        },
        {
         "numbers": 96,
         "prime": 0,
         "_deepnote_index_column": 94
        },
        {
         "numbers": 97,
         "prime": 1,
         "_deepnote_index_column": 95
        },
        {
         "numbers": 98,
         "prime": 0,
         "_deepnote_index_column": 96
        },
        {
         "numbers": 99,
         "prime": 0,
         "_deepnote_index_column": 97
        },
        {
         "numbers": 100,
         "prime": 0,
         "_deepnote_index_column": 98
        },
        {
         "numbers": 101,
         "prime": 1,
         "_deepnote_index_column": 99
        },
        {
         "numbers": 102,
         "prime": 0,
         "_deepnote_index_column": 100
        },
        {
         "numbers": 103,
         "prime": 1,
         "_deepnote_index_column": 101
        },
        {
         "numbers": 104,
         "prime": 0,
         "_deepnote_index_column": 102
        },
        {
         "numbers": 105,
         "prime": 0,
         "_deepnote_index_column": 103
        },
        {
         "numbers": 106,
         "prime": 0,
         "_deepnote_index_column": 104
        },
        {
         "numbers": 107,
         "prime": 1,
         "_deepnote_index_column": 105
        },
        {
         "numbers": 108,
         "prime": 0,
         "_deepnote_index_column": 106
        },
        {
         "numbers": 109,
         "prime": 1,
         "_deepnote_index_column": 107
        },
        {
         "numbers": 110,
         "prime": 0,
         "_deepnote_index_column": 108
        },
        {
         "numbers": 111,
         "prime": 0,
         "_deepnote_index_column": 109
        },
        {
         "numbers": 112,
         "prime": 0,
         "_deepnote_index_column": 110
        },
        {
         "numbers": 113,
         "prime": 1,
         "_deepnote_index_column": 111
        },
        {
         "numbers": 114,
         "prime": 0,
         "_deepnote_index_column": 112
        },
        {
         "numbers": 115,
         "prime": 0,
         "_deepnote_index_column": 113
        },
        {
         "numbers": 116,
         "prime": 0,
         "_deepnote_index_column": 114
        },
        {
         "numbers": 117,
         "prime": 0,
         "_deepnote_index_column": 115
        },
        {
         "numbers": 118,
         "prime": 0,
         "_deepnote_index_column": 116
        },
        {
         "numbers": 119,
         "prime": 0,
         "_deepnote_index_column": 117
        },
        {
         "numbers": 120,
         "prime": 0,
         "_deepnote_index_column": 118
        },
        {
         "numbers": 121,
         "prime": 0,
         "_deepnote_index_column": 119
        },
        {
         "numbers": 122,
         "prime": 0,
         "_deepnote_index_column": 120
        },
        {
         "numbers": 123,
         "prime": 0,
         "_deepnote_index_column": 121
        },
        {
         "numbers": 124,
         "prime": 0,
         "_deepnote_index_column": 122
        },
        {
         "numbers": 125,
         "prime": 0,
         "_deepnote_index_column": 123
        },
        {
         "numbers": 126,
         "prime": 0,
         "_deepnote_index_column": 124
        },
        {
         "numbers": 127,
         "prime": 1,
         "_deepnote_index_column": 125
        },
        {
         "numbers": 128,
         "prime": 0,
         "_deepnote_index_column": 126
        },
        {
         "numbers": 129,
         "prime": 0,
         "_deepnote_index_column": 127
        },
        {
         "numbers": 130,
         "prime": 0,
         "_deepnote_index_column": 128
        },
        {
         "numbers": 131,
         "prime": 1,
         "_deepnote_index_column": 129
        },
        {
         "numbers": 132,
         "prime": 0,
         "_deepnote_index_column": 130
        },
        {
         "numbers": 133,
         "prime": 0,
         "_deepnote_index_column": 131
        },
        {
         "numbers": 134,
         "prime": 0,
         "_deepnote_index_column": 132
        },
        {
         "numbers": 135,
         "prime": 0,
         "_deepnote_index_column": 133
        },
        {
         "numbers": 136,
         "prime": 0,
         "_deepnote_index_column": 134
        },
        {
         "numbers": 137,
         "prime": 1,
         "_deepnote_index_column": 135
        },
        {
         "numbers": 138,
         "prime": 0,
         "_deepnote_index_column": 136
        },
        {
         "numbers": 139,
         "prime": 1,
         "_deepnote_index_column": 137
        },
        {
         "numbers": 140,
         "prime": 0,
         "_deepnote_index_column": 138
        },
        {
         "numbers": 141,
         "prime": 0,
         "_deepnote_index_column": 139
        },
        {
         "numbers": 142,
         "prime": 0,
         "_deepnote_index_column": 140
        },
        {
         "numbers": 143,
         "prime": 0,
         "_deepnote_index_column": 141
        },
        {
         "numbers": 144,
         "prime": 0,
         "_deepnote_index_column": 142
        },
        {
         "numbers": 145,
         "prime": 0,
         "_deepnote_index_column": 143
        },
        {
         "numbers": 146,
         "prime": 0,
         "_deepnote_index_column": 144
        },
        {
         "numbers": 147,
         "prime": 0,
         "_deepnote_index_column": 145
        },
        {
         "numbers": 148,
         "prime": 0,
         "_deepnote_index_column": 146
        },
        {
         "numbers": 149,
         "prime": 1,
         "_deepnote_index_column": 147
        },
        {
         "numbers": 150,
         "prime": 0,
         "_deepnote_index_column": 148
        },
        {
         "numbers": 151,
         "prime": 1,
         "_deepnote_index_column": 149
        },
        {
         "numbers": 152,
         "prime": 0,
         "_deepnote_index_column": 150
        },
        {
         "numbers": 153,
         "prime": 0,
         "_deepnote_index_column": 151
        },
        {
         "numbers": 154,
         "prime": 0,
         "_deepnote_index_column": 152
        },
        {
         "numbers": 155,
         "prime": 0,
         "_deepnote_index_column": 153
        },
        {
         "numbers": 156,
         "prime": 0,
         "_deepnote_index_column": 154
        },
        {
         "numbers": 157,
         "prime": 1,
         "_deepnote_index_column": 155
        },
        {
         "numbers": 158,
         "prime": 0,
         "_deepnote_index_column": 156
        },
        {
         "numbers": 159,
         "prime": 0,
         "_deepnote_index_column": 157
        },
        {
         "numbers": 160,
         "prime": 0,
         "_deepnote_index_column": 158
        },
        {
         "numbers": 161,
         "prime": 0,
         "_deepnote_index_column": 159
        },
        {
         "numbers": 162,
         "prime": 0,
         "_deepnote_index_column": 160
        },
        {
         "numbers": 163,
         "prime": 1,
         "_deepnote_index_column": 161
        },
        {
         "numbers": 164,
         "prime": 0,
         "_deepnote_index_column": 162
        },
        {
         "numbers": 165,
         "prime": 0,
         "_deepnote_index_column": 163
        },
        {
         "numbers": 166,
         "prime": 0,
         "_deepnote_index_column": 164
        },
        {
         "numbers": 167,
         "prime": 1,
         "_deepnote_index_column": 165
        },
        {
         "numbers": 168,
         "prime": 0,
         "_deepnote_index_column": 166
        },
        {
         "numbers": 169,
         "prime": 0,
         "_deepnote_index_column": 167
        },
        {
         "numbers": 170,
         "prime": 0,
         "_deepnote_index_column": 168
        },
        {
         "numbers": 171,
         "prime": 0,
         "_deepnote_index_column": 169
        },
        {
         "numbers": 172,
         "prime": 0,
         "_deepnote_index_column": 170
        },
        {
         "numbers": 173,
         "prime": 1,
         "_deepnote_index_column": 171
        },
        {
         "numbers": 174,
         "prime": 0,
         "_deepnote_index_column": 172
        },
        {
         "numbers": 175,
         "prime": 0,
         "_deepnote_index_column": 173
        },
        {
         "numbers": 176,
         "prime": 0,
         "_deepnote_index_column": 174
        },
        {
         "numbers": 177,
         "prime": 0,
         "_deepnote_index_column": 175
        },
        {
         "numbers": 178,
         "prime": 0,
         "_deepnote_index_column": 176
        },
        {
         "numbers": 179,
         "prime": 1,
         "_deepnote_index_column": 177
        },
        {
         "numbers": 180,
         "prime": 0,
         "_deepnote_index_column": 178
        },
        {
         "numbers": 181,
         "prime": 1,
         "_deepnote_index_column": 179
        },
        {
         "numbers": 182,
         "prime": 0,
         "_deepnote_index_column": 180
        },
        {
         "numbers": 183,
         "prime": 0,
         "_deepnote_index_column": 181
        },
        {
         "numbers": 184,
         "prime": 0,
         "_deepnote_index_column": 182
        },
        {
         "numbers": 185,
         "prime": 0,
         "_deepnote_index_column": 183
        },
        {
         "numbers": 186,
         "prime": 0,
         "_deepnote_index_column": 184
        },
        {
         "numbers": 187,
         "prime": 0,
         "_deepnote_index_column": 185
        },
        {
         "numbers": 188,
         "prime": 0,
         "_deepnote_index_column": 186
        },
        {
         "numbers": 189,
         "prime": 0,
         "_deepnote_index_column": 187
        },
        {
         "numbers": 190,
         "prime": 0,
         "_deepnote_index_column": 188
        },
        {
         "numbers": 191,
         "prime": 1,
         "_deepnote_index_column": 189
        },
        {
         "numbers": 192,
         "prime": 0,
         "_deepnote_index_column": 190
        },
        {
         "numbers": 193,
         "prime": 1,
         "_deepnote_index_column": 191
        },
        {
         "numbers": 194,
         "prime": 0,
         "_deepnote_index_column": 192
        },
        {
         "numbers": 195,
         "prime": 0,
         "_deepnote_index_column": 193
        },
        {
         "numbers": 196,
         "prime": 0,
         "_deepnote_index_column": 194
        },
        {
         "numbers": 197,
         "prime": 1,
         "_deepnote_index_column": 195
        },
        {
         "numbers": 198,
         "prime": 0,
         "_deepnote_index_column": 196
        },
        {
         "numbers": 199,
         "prime": 1,
         "_deepnote_index_column": 197
        },
        {
         "numbers": 200,
         "prime": 0,
         "_deepnote_index_column": 198
        },
        {
         "numbers": 201,
         "prime": 0,
         "_deepnote_index_column": 199
        },
        {
         "numbers": 202,
         "prime": 0,
         "_deepnote_index_column": 200
        },
        {
         "numbers": 203,
         "prime": 0,
         "_deepnote_index_column": 201
        },
        {
         "numbers": 204,
         "prime": 0,
         "_deepnote_index_column": 202
        },
        {
         "numbers": 205,
         "prime": 0,
         "_deepnote_index_column": 203
        },
        {
         "numbers": 206,
         "prime": 0,
         "_deepnote_index_column": 204
        },
        {
         "numbers": 207,
         "prime": 0,
         "_deepnote_index_column": 205
        },
        {
         "numbers": 208,
         "prime": 0,
         "_deepnote_index_column": 206
        },
        {
         "numbers": 209,
         "prime": 0,
         "_deepnote_index_column": 207
        },
        {
         "numbers": 210,
         "prime": 0,
         "_deepnote_index_column": 208
        },
        {
         "numbers": 211,
         "prime": 1,
         "_deepnote_index_column": 209
        },
        {
         "numbers": 212,
         "prime": 0,
         "_deepnote_index_column": 210
        },
        {
         "numbers": 213,
         "prime": 0,
         "_deepnote_index_column": 211
        },
        {
         "numbers": 214,
         "prime": 0,
         "_deepnote_index_column": 212
        },
        {
         "numbers": 215,
         "prime": 0,
         "_deepnote_index_column": 213
        },
        {
         "numbers": 216,
         "prime": 0,
         "_deepnote_index_column": 214
        },
        {
         "numbers": 217,
         "prime": 0,
         "_deepnote_index_column": 215
        },
        {
         "numbers": 218,
         "prime": 0,
         "_deepnote_index_column": 216
        },
        {
         "numbers": 219,
         "prime": 0,
         "_deepnote_index_column": 217
        },
        {
         "numbers": 220,
         "prime": 0,
         "_deepnote_index_column": 218
        },
        {
         "numbers": 221,
         "prime": 0,
         "_deepnote_index_column": 219
        },
        {
         "numbers": 222,
         "prime": 0,
         "_deepnote_index_column": 220
        },
        {
         "numbers": 223,
         "prime": 1,
         "_deepnote_index_column": 221
        },
        {
         "numbers": 224,
         "prime": 0,
         "_deepnote_index_column": 222
        },
        {
         "numbers": 225,
         "prime": 0,
         "_deepnote_index_column": 223
        },
        {
         "numbers": 226,
         "prime": 0,
         "_deepnote_index_column": 224
        },
        {
         "numbers": 227,
         "prime": 1,
         "_deepnote_index_column": 225
        },
        {
         "numbers": 228,
         "prime": 0,
         "_deepnote_index_column": 226
        },
        {
         "numbers": 229,
         "prime": 1,
         "_deepnote_index_column": 227
        },
        {
         "numbers": 230,
         "prime": 0,
         "_deepnote_index_column": 228
        },
        {
         "numbers": 231,
         "prime": 0,
         "_deepnote_index_column": 229
        },
        {
         "numbers": 232,
         "prime": 0,
         "_deepnote_index_column": 230
        },
        {
         "numbers": 233,
         "prime": 1,
         "_deepnote_index_column": 231
        },
        {
         "numbers": 234,
         "prime": 0,
         "_deepnote_index_column": 232
        },
        {
         "numbers": 235,
         "prime": 0,
         "_deepnote_index_column": 233
        },
        {
         "numbers": 236,
         "prime": 0,
         "_deepnote_index_column": 234
        },
        {
         "numbers": 237,
         "prime": 0,
         "_deepnote_index_column": 235
        },
        {
         "numbers": 238,
         "prime": 0,
         "_deepnote_index_column": 236
        },
        {
         "numbers": 239,
         "prime": 1,
         "_deepnote_index_column": 237
        },
        {
         "numbers": 240,
         "prime": 0,
         "_deepnote_index_column": 238
        },
        {
         "numbers": 241,
         "prime": 1,
         "_deepnote_index_column": 239
        },
        {
         "numbers": 242,
         "prime": 0,
         "_deepnote_index_column": 240
        },
        {
         "numbers": 243,
         "prime": 0,
         "_deepnote_index_column": 241
        },
        {
         "numbers": 244,
         "prime": 0,
         "_deepnote_index_column": 242
        },
        {
         "numbers": 245,
         "prime": 0,
         "_deepnote_index_column": 243
        },
        {
         "numbers": 246,
         "prime": 0,
         "_deepnote_index_column": 244
        },
        {
         "numbers": 247,
         "prime": 0,
         "_deepnote_index_column": 245
        },
        {
         "numbers": 248,
         "prime": 0,
         "_deepnote_index_column": 246
        },
        {
         "numbers": 249,
         "prime": 0,
         "_deepnote_index_column": 247
        },
        {
         "numbers": 250,
         "prime": 0,
         "_deepnote_index_column": 248
        },
        {
         "numbers": 251,
         "prime": 1,
         "_deepnote_index_column": 249
        }
       ],
       "rows_bottom": [
        {
         "numbers": 1750,
         "prime": 0,
         "_deepnote_index_column": 1748
        },
        {
         "numbers": 1751,
         "prime": 0,
         "_deepnote_index_column": 1749
        },
        {
         "numbers": 1752,
         "prime": 0,
         "_deepnote_index_column": 1750
        },
        {
         "numbers": 1753,
         "prime": 1,
         "_deepnote_index_column": 1751
        },
        {
         "numbers": 1754,
         "prime": 0,
         "_deepnote_index_column": 1752
        },
        {
         "numbers": 1755,
         "prime": 0,
         "_deepnote_index_column": 1753
        },
        {
         "numbers": 1756,
         "prime": 0,
         "_deepnote_index_column": 1754
        },
        {
         "numbers": 1757,
         "prime": 0,
         "_deepnote_index_column": 1755
        },
        {
         "numbers": 1758,
         "prime": 0,
         "_deepnote_index_column": 1756
        },
        {
         "numbers": 1759,
         "prime": 1,
         "_deepnote_index_column": 1757
        },
        {
         "numbers": 1760,
         "prime": 0,
         "_deepnote_index_column": 1758
        },
        {
         "numbers": 1761,
         "prime": 0,
         "_deepnote_index_column": 1759
        },
        {
         "numbers": 1762,
         "prime": 0,
         "_deepnote_index_column": 1760
        },
        {
         "numbers": 1763,
         "prime": 0,
         "_deepnote_index_column": 1761
        },
        {
         "numbers": 1764,
         "prime": 0,
         "_deepnote_index_column": 1762
        },
        {
         "numbers": 1765,
         "prime": 0,
         "_deepnote_index_column": 1763
        },
        {
         "numbers": 1766,
         "prime": 0,
         "_deepnote_index_column": 1764
        },
        {
         "numbers": 1767,
         "prime": 0,
         "_deepnote_index_column": 1765
        },
        {
         "numbers": 1768,
         "prime": 0,
         "_deepnote_index_column": 1766
        },
        {
         "numbers": 1769,
         "prime": 0,
         "_deepnote_index_column": 1767
        },
        {
         "numbers": 1770,
         "prime": 0,
         "_deepnote_index_column": 1768
        },
        {
         "numbers": 1771,
         "prime": 0,
         "_deepnote_index_column": 1769
        },
        {
         "numbers": 1772,
         "prime": 0,
         "_deepnote_index_column": 1770
        },
        {
         "numbers": 1773,
         "prime": 0,
         "_deepnote_index_column": 1771
        },
        {
         "numbers": 1774,
         "prime": 0,
         "_deepnote_index_column": 1772
        },
        {
         "numbers": 1775,
         "prime": 0,
         "_deepnote_index_column": 1773
        },
        {
         "numbers": 1776,
         "prime": 0,
         "_deepnote_index_column": 1774
        },
        {
         "numbers": 1777,
         "prime": 1,
         "_deepnote_index_column": 1775
        },
        {
         "numbers": 1778,
         "prime": 0,
         "_deepnote_index_column": 1776
        },
        {
         "numbers": 1779,
         "prime": 0,
         "_deepnote_index_column": 1777
        },
        {
         "numbers": 1780,
         "prime": 0,
         "_deepnote_index_column": 1778
        },
        {
         "numbers": 1781,
         "prime": 0,
         "_deepnote_index_column": 1779
        },
        {
         "numbers": 1782,
         "prime": 0,
         "_deepnote_index_column": 1780
        },
        {
         "numbers": 1783,
         "prime": 1,
         "_deepnote_index_column": 1781
        },
        {
         "numbers": 1784,
         "prime": 0,
         "_deepnote_index_column": 1782
        },
        {
         "numbers": 1785,
         "prime": 0,
         "_deepnote_index_column": 1783
        },
        {
         "numbers": 1786,
         "prime": 0,
         "_deepnote_index_column": 1784
        },
        {
         "numbers": 1787,
         "prime": 1,
         "_deepnote_index_column": 1785
        },
        {
         "numbers": 1788,
         "prime": 0,
         "_deepnote_index_column": 1786
        },
        {
         "numbers": 1789,
         "prime": 1,
         "_deepnote_index_column": 1787
        },
        {
         "numbers": 1790,
         "prime": 0,
         "_deepnote_index_column": 1788
        },
        {
         "numbers": 1791,
         "prime": 0,
         "_deepnote_index_column": 1789
        },
        {
         "numbers": 1792,
         "prime": 0,
         "_deepnote_index_column": 1790
        },
        {
         "numbers": 1793,
         "prime": 0,
         "_deepnote_index_column": 1791
        },
        {
         "numbers": 1794,
         "prime": 0,
         "_deepnote_index_column": 1792
        },
        {
         "numbers": 1795,
         "prime": 0,
         "_deepnote_index_column": 1793
        },
        {
         "numbers": 1796,
         "prime": 0,
         "_deepnote_index_column": 1794
        },
        {
         "numbers": 1797,
         "prime": 0,
         "_deepnote_index_column": 1795
        },
        {
         "numbers": 1798,
         "prime": 0,
         "_deepnote_index_column": 1796
        },
        {
         "numbers": 1799,
         "prime": 0,
         "_deepnote_index_column": 1797
        },
        {
         "numbers": 1800,
         "prime": 0,
         "_deepnote_index_column": 1798
        },
        {
         "numbers": 1801,
         "prime": 1,
         "_deepnote_index_column": 1799
        },
        {
         "numbers": 1802,
         "prime": 0,
         "_deepnote_index_column": 1800
        },
        {
         "numbers": 1803,
         "prime": 0,
         "_deepnote_index_column": 1801
        },
        {
         "numbers": 1804,
         "prime": 0,
         "_deepnote_index_column": 1802
        },
        {
         "numbers": 1805,
         "prime": 0,
         "_deepnote_index_column": 1803
        },
        {
         "numbers": 1806,
         "prime": 0,
         "_deepnote_index_column": 1804
        },
        {
         "numbers": 1807,
         "prime": 0,
         "_deepnote_index_column": 1805
        },
        {
         "numbers": 1808,
         "prime": 0,
         "_deepnote_index_column": 1806
        },
        {
         "numbers": 1809,
         "prime": 0,
         "_deepnote_index_column": 1807
        },
        {
         "numbers": 1810,
         "prime": 0,
         "_deepnote_index_column": 1808
        },
        {
         "numbers": 1811,
         "prime": 1,
         "_deepnote_index_column": 1809
        },
        {
         "numbers": 1812,
         "prime": 0,
         "_deepnote_index_column": 1810
        },
        {
         "numbers": 1813,
         "prime": 0,
         "_deepnote_index_column": 1811
        },
        {
         "numbers": 1814,
         "prime": 0,
         "_deepnote_index_column": 1812
        },
        {
         "numbers": 1815,
         "prime": 0,
         "_deepnote_index_column": 1813
        },
        {
         "numbers": 1816,
         "prime": 0,
         "_deepnote_index_column": 1814
        },
        {
         "numbers": 1817,
         "prime": 0,
         "_deepnote_index_column": 1815
        },
        {
         "numbers": 1818,
         "prime": 0,
         "_deepnote_index_column": 1816
        },
        {
         "numbers": 1819,
         "prime": 0,
         "_deepnote_index_column": 1817
        },
        {
         "numbers": 1820,
         "prime": 0,
         "_deepnote_index_column": 1818
        },
        {
         "numbers": 1821,
         "prime": 0,
         "_deepnote_index_column": 1819
        },
        {
         "numbers": 1822,
         "prime": 0,
         "_deepnote_index_column": 1820
        },
        {
         "numbers": 1823,
         "prime": 1,
         "_deepnote_index_column": 1821
        },
        {
         "numbers": 1824,
         "prime": 0,
         "_deepnote_index_column": 1822
        },
        {
         "numbers": 1825,
         "prime": 0,
         "_deepnote_index_column": 1823
        },
        {
         "numbers": 1826,
         "prime": 0,
         "_deepnote_index_column": 1824
        },
        {
         "numbers": 1827,
         "prime": 0,
         "_deepnote_index_column": 1825
        },
        {
         "numbers": 1828,
         "prime": 0,
         "_deepnote_index_column": 1826
        },
        {
         "numbers": 1829,
         "prime": 0,
         "_deepnote_index_column": 1827
        },
        {
         "numbers": 1830,
         "prime": 0,
         "_deepnote_index_column": 1828
        },
        {
         "numbers": 1831,
         "prime": 1,
         "_deepnote_index_column": 1829
        },
        {
         "numbers": 1832,
         "prime": 0,
         "_deepnote_index_column": 1830
        },
        {
         "numbers": 1833,
         "prime": 0,
         "_deepnote_index_column": 1831
        },
        {
         "numbers": 1834,
         "prime": 0,
         "_deepnote_index_column": 1832
        },
        {
         "numbers": 1835,
         "prime": 0,
         "_deepnote_index_column": 1833
        },
        {
         "numbers": 1836,
         "prime": 0,
         "_deepnote_index_column": 1834
        },
        {
         "numbers": 1837,
         "prime": 0,
         "_deepnote_index_column": 1835
        },
        {
         "numbers": 1838,
         "prime": 0,
         "_deepnote_index_column": 1836
        },
        {
         "numbers": 1839,
         "prime": 0,
         "_deepnote_index_column": 1837
        },
        {
         "numbers": 1840,
         "prime": 0,
         "_deepnote_index_column": 1838
        },
        {
         "numbers": 1841,
         "prime": 0,
         "_deepnote_index_column": 1839
        },
        {
         "numbers": 1842,
         "prime": 0,
         "_deepnote_index_column": 1840
        },
        {
         "numbers": 1843,
         "prime": 0,
         "_deepnote_index_column": 1841
        },
        {
         "numbers": 1844,
         "prime": 0,
         "_deepnote_index_column": 1842
        },
        {
         "numbers": 1845,
         "prime": 0,
         "_deepnote_index_column": 1843
        },
        {
         "numbers": 1846,
         "prime": 0,
         "_deepnote_index_column": 1844
        },
        {
         "numbers": 1847,
         "prime": 1,
         "_deepnote_index_column": 1845
        },
        {
         "numbers": 1848,
         "prime": 0,
         "_deepnote_index_column": 1846
        },
        {
         "numbers": 1849,
         "prime": 0,
         "_deepnote_index_column": 1847
        },
        {
         "numbers": 1850,
         "prime": 0,
         "_deepnote_index_column": 1848
        },
        {
         "numbers": 1851,
         "prime": 0,
         "_deepnote_index_column": 1849
        },
        {
         "numbers": 1852,
         "prime": 0,
         "_deepnote_index_column": 1850
        },
        {
         "numbers": 1853,
         "prime": 0,
         "_deepnote_index_column": 1851
        },
        {
         "numbers": 1854,
         "prime": 0,
         "_deepnote_index_column": 1852
        },
        {
         "numbers": 1855,
         "prime": 0,
         "_deepnote_index_column": 1853
        },
        {
         "numbers": 1856,
         "prime": 0,
         "_deepnote_index_column": 1854
        },
        {
         "numbers": 1857,
         "prime": 0,
         "_deepnote_index_column": 1855
        },
        {
         "numbers": 1858,
         "prime": 0,
         "_deepnote_index_column": 1856
        },
        {
         "numbers": 1859,
         "prime": 0,
         "_deepnote_index_column": 1857
        },
        {
         "numbers": 1860,
         "prime": 0,
         "_deepnote_index_column": 1858
        },
        {
         "numbers": 1861,
         "prime": 1,
         "_deepnote_index_column": 1859
        },
        {
         "numbers": 1862,
         "prime": 0,
         "_deepnote_index_column": 1860
        },
        {
         "numbers": 1863,
         "prime": 0,
         "_deepnote_index_column": 1861
        },
        {
         "numbers": 1864,
         "prime": 0,
         "_deepnote_index_column": 1862
        },
        {
         "numbers": 1865,
         "prime": 0,
         "_deepnote_index_column": 1863
        },
        {
         "numbers": 1866,
         "prime": 0,
         "_deepnote_index_column": 1864
        },
        {
         "numbers": 1867,
         "prime": 1,
         "_deepnote_index_column": 1865
        },
        {
         "numbers": 1868,
         "prime": 0,
         "_deepnote_index_column": 1866
        },
        {
         "numbers": 1869,
         "prime": 0,
         "_deepnote_index_column": 1867
        },
        {
         "numbers": 1870,
         "prime": 0,
         "_deepnote_index_column": 1868
        },
        {
         "numbers": 1871,
         "prime": 1,
         "_deepnote_index_column": 1869
        },
        {
         "numbers": 1872,
         "prime": 0,
         "_deepnote_index_column": 1870
        },
        {
         "numbers": 1873,
         "prime": 1,
         "_deepnote_index_column": 1871
        },
        {
         "numbers": 1874,
         "prime": 0,
         "_deepnote_index_column": 1872
        },
        {
         "numbers": 1875,
         "prime": 0,
         "_deepnote_index_column": 1873
        },
        {
         "numbers": 1876,
         "prime": 0,
         "_deepnote_index_column": 1874
        },
        {
         "numbers": 1877,
         "prime": 1,
         "_deepnote_index_column": 1875
        },
        {
         "numbers": 1878,
         "prime": 0,
         "_deepnote_index_column": 1876
        },
        {
         "numbers": 1879,
         "prime": 1,
         "_deepnote_index_column": 1877
        },
        {
         "numbers": 1880,
         "prime": 0,
         "_deepnote_index_column": 1878
        },
        {
         "numbers": 1881,
         "prime": 0,
         "_deepnote_index_column": 1879
        },
        {
         "numbers": 1882,
         "prime": 0,
         "_deepnote_index_column": 1880
        },
        {
         "numbers": 1883,
         "prime": 0,
         "_deepnote_index_column": 1881
        },
        {
         "numbers": 1884,
         "prime": 0,
         "_deepnote_index_column": 1882
        },
        {
         "numbers": 1885,
         "prime": 0,
         "_deepnote_index_column": 1883
        },
        {
         "numbers": 1886,
         "prime": 0,
         "_deepnote_index_column": 1884
        },
        {
         "numbers": 1887,
         "prime": 0,
         "_deepnote_index_column": 1885
        },
        {
         "numbers": 1888,
         "prime": 0,
         "_deepnote_index_column": 1886
        },
        {
         "numbers": 1889,
         "prime": 1,
         "_deepnote_index_column": 1887
        },
        {
         "numbers": 1890,
         "prime": 0,
         "_deepnote_index_column": 1888
        },
        {
         "numbers": 1891,
         "prime": 0,
         "_deepnote_index_column": 1889
        },
        {
         "numbers": 1892,
         "prime": 0,
         "_deepnote_index_column": 1890
        },
        {
         "numbers": 1893,
         "prime": 0,
         "_deepnote_index_column": 1891
        },
        {
         "numbers": 1894,
         "prime": 0,
         "_deepnote_index_column": 1892
        },
        {
         "numbers": 1895,
         "prime": 0,
         "_deepnote_index_column": 1893
        },
        {
         "numbers": 1896,
         "prime": 0,
         "_deepnote_index_column": 1894
        },
        {
         "numbers": 1897,
         "prime": 0,
         "_deepnote_index_column": 1895
        },
        {
         "numbers": 1898,
         "prime": 0,
         "_deepnote_index_column": 1896
        },
        {
         "numbers": 1899,
         "prime": 0,
         "_deepnote_index_column": 1897
        },
        {
         "numbers": 1900,
         "prime": 0,
         "_deepnote_index_column": 1898
        },
        {
         "numbers": 1901,
         "prime": 1,
         "_deepnote_index_column": 1899
        },
        {
         "numbers": 1902,
         "prime": 0,
         "_deepnote_index_column": 1900
        },
        {
         "numbers": 1903,
         "prime": 0,
         "_deepnote_index_column": 1901
        },
        {
         "numbers": 1904,
         "prime": 0,
         "_deepnote_index_column": 1902
        },
        {
         "numbers": 1905,
         "prime": 0,
         "_deepnote_index_column": 1903
        },
        {
         "numbers": 1906,
         "prime": 0,
         "_deepnote_index_column": 1904
        },
        {
         "numbers": 1907,
         "prime": 1,
         "_deepnote_index_column": 1905
        },
        {
         "numbers": 1908,
         "prime": 0,
         "_deepnote_index_column": 1906
        },
        {
         "numbers": 1909,
         "prime": 0,
         "_deepnote_index_column": 1907
        },
        {
         "numbers": 1910,
         "prime": 0,
         "_deepnote_index_column": 1908
        },
        {
         "numbers": 1911,
         "prime": 0,
         "_deepnote_index_column": 1909
        },
        {
         "numbers": 1912,
         "prime": 0,
         "_deepnote_index_column": 1910
        },
        {
         "numbers": 1913,
         "prime": 1,
         "_deepnote_index_column": 1911
        },
        {
         "numbers": 1914,
         "prime": 0,
         "_deepnote_index_column": 1912
        },
        {
         "numbers": 1915,
         "prime": 0,
         "_deepnote_index_column": 1913
        },
        {
         "numbers": 1916,
         "prime": 0,
         "_deepnote_index_column": 1914
        },
        {
         "numbers": 1917,
         "prime": 0,
         "_deepnote_index_column": 1915
        },
        {
         "numbers": 1918,
         "prime": 0,
         "_deepnote_index_column": 1916
        },
        {
         "numbers": 1919,
         "prime": 0,
         "_deepnote_index_column": 1917
        },
        {
         "numbers": 1920,
         "prime": 0,
         "_deepnote_index_column": 1918
        },
        {
         "numbers": 1921,
         "prime": 0,
         "_deepnote_index_column": 1919
        },
        {
         "numbers": 1922,
         "prime": 0,
         "_deepnote_index_column": 1920
        },
        {
         "numbers": 1923,
         "prime": 0,
         "_deepnote_index_column": 1921
        },
        {
         "numbers": 1924,
         "prime": 0,
         "_deepnote_index_column": 1922
        },
        {
         "numbers": 1925,
         "prime": 0,
         "_deepnote_index_column": 1923
        },
        {
         "numbers": 1926,
         "prime": 0,
         "_deepnote_index_column": 1924
        },
        {
         "numbers": 1927,
         "prime": 0,
         "_deepnote_index_column": 1925
        },
        {
         "numbers": 1928,
         "prime": 0,
         "_deepnote_index_column": 1926
        },
        {
         "numbers": 1929,
         "prime": 0,
         "_deepnote_index_column": 1927
        },
        {
         "numbers": 1930,
         "prime": 0,
         "_deepnote_index_column": 1928
        },
        {
         "numbers": 1931,
         "prime": 1,
         "_deepnote_index_column": 1929
        },
        {
         "numbers": 1932,
         "prime": 0,
         "_deepnote_index_column": 1930
        },
        {
         "numbers": 1933,
         "prime": 1,
         "_deepnote_index_column": 1931
        },
        {
         "numbers": 1934,
         "prime": 0,
         "_deepnote_index_column": 1932
        },
        {
         "numbers": 1935,
         "prime": 0,
         "_deepnote_index_column": 1933
        },
        {
         "numbers": 1936,
         "prime": 0,
         "_deepnote_index_column": 1934
        },
        {
         "numbers": 1937,
         "prime": 0,
         "_deepnote_index_column": 1935
        },
        {
         "numbers": 1938,
         "prime": 0,
         "_deepnote_index_column": 1936
        },
        {
         "numbers": 1939,
         "prime": 0,
         "_deepnote_index_column": 1937
        },
        {
         "numbers": 1940,
         "prime": 0,
         "_deepnote_index_column": 1938
        },
        {
         "numbers": 1941,
         "prime": 0,
         "_deepnote_index_column": 1939
        },
        {
         "numbers": 1942,
         "prime": 0,
         "_deepnote_index_column": 1940
        },
        {
         "numbers": 1943,
         "prime": 0,
         "_deepnote_index_column": 1941
        },
        {
         "numbers": 1944,
         "prime": 0,
         "_deepnote_index_column": 1942
        },
        {
         "numbers": 1945,
         "prime": 0,
         "_deepnote_index_column": 1943
        },
        {
         "numbers": 1946,
         "prime": 0,
         "_deepnote_index_column": 1944
        },
        {
         "numbers": 1947,
         "prime": 0,
         "_deepnote_index_column": 1945
        },
        {
         "numbers": 1948,
         "prime": 0,
         "_deepnote_index_column": 1946
        },
        {
         "numbers": 1949,
         "prime": 1,
         "_deepnote_index_column": 1947
        },
        {
         "numbers": 1950,
         "prime": 0,
         "_deepnote_index_column": 1948
        },
        {
         "numbers": 1951,
         "prime": 1,
         "_deepnote_index_column": 1949
        },
        {
         "numbers": 1952,
         "prime": 0,
         "_deepnote_index_column": 1950
        },
        {
         "numbers": 1953,
         "prime": 0,
         "_deepnote_index_column": 1951
        },
        {
         "numbers": 1954,
         "prime": 0,
         "_deepnote_index_column": 1952
        },
        {
         "numbers": 1955,
         "prime": 0,
         "_deepnote_index_column": 1953
        },
        {
         "numbers": 1956,
         "prime": 0,
         "_deepnote_index_column": 1954
        },
        {
         "numbers": 1957,
         "prime": 0,
         "_deepnote_index_column": 1955
        },
        {
         "numbers": 1958,
         "prime": 0,
         "_deepnote_index_column": 1956
        },
        {
         "numbers": 1959,
         "prime": 0,
         "_deepnote_index_column": 1957
        },
        {
         "numbers": 1960,
         "prime": 0,
         "_deepnote_index_column": 1958
        },
        {
         "numbers": 1961,
         "prime": 0,
         "_deepnote_index_column": 1959
        },
        {
         "numbers": 1962,
         "prime": 0,
         "_deepnote_index_column": 1960
        },
        {
         "numbers": 1963,
         "prime": 0,
         "_deepnote_index_column": 1961
        },
        {
         "numbers": 1964,
         "prime": 0,
         "_deepnote_index_column": 1962
        },
        {
         "numbers": 1965,
         "prime": 0,
         "_deepnote_index_column": 1963
        },
        {
         "numbers": 1966,
         "prime": 0,
         "_deepnote_index_column": 1964
        },
        {
         "numbers": 1967,
         "prime": 0,
         "_deepnote_index_column": 1965
        },
        {
         "numbers": 1968,
         "prime": 0,
         "_deepnote_index_column": 1966
        },
        {
         "numbers": 1969,
         "prime": 0,
         "_deepnote_index_column": 1967
        },
        {
         "numbers": 1970,
         "prime": 0,
         "_deepnote_index_column": 1968
        },
        {
         "numbers": 1971,
         "prime": 0,
         "_deepnote_index_column": 1969
        },
        {
         "numbers": 1972,
         "prime": 0,
         "_deepnote_index_column": 1970
        },
        {
         "numbers": 1973,
         "prime": 1,
         "_deepnote_index_column": 1971
        },
        {
         "numbers": 1974,
         "prime": 0,
         "_deepnote_index_column": 1972
        },
        {
         "numbers": 1975,
         "prime": 0,
         "_deepnote_index_column": 1973
        },
        {
         "numbers": 1976,
         "prime": 0,
         "_deepnote_index_column": 1974
        },
        {
         "numbers": 1977,
         "prime": 0,
         "_deepnote_index_column": 1975
        },
        {
         "numbers": 1978,
         "prime": 0,
         "_deepnote_index_column": 1976
        },
        {
         "numbers": 1979,
         "prime": 1,
         "_deepnote_index_column": 1977
        },
        {
         "numbers": 1980,
         "prime": 0,
         "_deepnote_index_column": 1978
        },
        {
         "numbers": 1981,
         "prime": 0,
         "_deepnote_index_column": 1979
        },
        {
         "numbers": 1982,
         "prime": 0,
         "_deepnote_index_column": 1980
        },
        {
         "numbers": 1983,
         "prime": 0,
         "_deepnote_index_column": 1981
        },
        {
         "numbers": 1984,
         "prime": 0,
         "_deepnote_index_column": 1982
        },
        {
         "numbers": 1985,
         "prime": 0,
         "_deepnote_index_column": 1983
        },
        {
         "numbers": 1986,
         "prime": 0,
         "_deepnote_index_column": 1984
        },
        {
         "numbers": 1987,
         "prime": 1,
         "_deepnote_index_column": 1985
        },
        {
         "numbers": 1988,
         "prime": 0,
         "_deepnote_index_column": 1986
        },
        {
         "numbers": 1989,
         "prime": 0,
         "_deepnote_index_column": 1987
        },
        {
         "numbers": 1990,
         "prime": 0,
         "_deepnote_index_column": 1988
        },
        {
         "numbers": 1991,
         "prime": 0,
         "_deepnote_index_column": 1989
        },
        {
         "numbers": 1992,
         "prime": 0,
         "_deepnote_index_column": 1990
        },
        {
         "numbers": 1993,
         "prime": 1,
         "_deepnote_index_column": 1991
        },
        {
         "numbers": 1994,
         "prime": 0,
         "_deepnote_index_column": 1992
        },
        {
         "numbers": 1995,
         "prime": 0,
         "_deepnote_index_column": 1993
        },
        {
         "numbers": 1996,
         "prime": 0,
         "_deepnote_index_column": 1994
        },
        {
         "numbers": 1997,
         "prime": 1,
         "_deepnote_index_column": 1995
        },
        {
         "numbers": 1998,
         "prime": 0,
         "_deepnote_index_column": 1996
        },
        {
         "numbers": 1999,
         "prime": 1,
         "_deepnote_index_column": 1997
        }
       ]
      },
      "text/plain": "      numbers  prime\n0           2      1\n1           3      1\n2           4      0\n3           5      1\n4           6      0\n...       ...    ...\n1993     1995      0\n1994     1996      0\n1995     1997      1\n1996     1998      0\n1997     1999      1\n\n[1998 rows x 2 columns]",
      "text/html": "<div>\n<style scoped>\n    .dataframe tbody tr th:only-of-type {\n        vertical-align: middle;\n    }\n\n    .dataframe tbody tr th {\n        vertical-align: top;\n    }\n\n    .dataframe thead th {\n        text-align: right;\n    }\n</style>\n<table border=\"1\" class=\"dataframe\">\n  <thead>\n    <tr style=\"text-align: right;\">\n      <th></th>\n      <th>numbers</th>\n      <th>prime</th>\n    </tr>\n  </thead>\n  <tbody>\n    <tr>\n      <th>0</th>\n      <td>2</td>\n      <td>1</td>\n    </tr>\n    <tr>\n      <th>1</th>\n      <td>3</td>\n      <td>1</td>\n    </tr>\n    <tr>\n      <th>2</th>\n      <td>4</td>\n      <td>0</td>\n    </tr>\n    <tr>\n      <th>3</th>\n      <td>5</td>\n      <td>1</td>\n    </tr>\n    <tr>\n      <th>4</th>\n      <td>6</td>\n      <td>0</td>\n    </tr>\n    <tr>\n      <th>...</th>\n      <td>...</td>\n      <td>...</td>\n    </tr>\n    <tr>\n      <th>1993</th>\n      <td>1995</td>\n      <td>0</td>\n    </tr>\n    <tr>\n      <th>1994</th>\n      <td>1996</td>\n      <td>0</td>\n    </tr>\n    <tr>\n      <th>1995</th>\n      <td>1997</td>\n      <td>1</td>\n    </tr>\n    <tr>\n      <th>1996</th>\n      <td>1998</td>\n      <td>0</td>\n    </tr>\n    <tr>\n      <th>1997</th>\n      <td>1999</td>\n      <td>1</td>\n    </tr>\n  </tbody>\n</table>\n<p>1998 rows × 2 columns</p>\n</div>"
     },
     "metadata": {}
    }
   ],
   "execution_count": 3
  },
  {
   "cell_type": "markdown",
   "source": "Dataset contains Two columns:\n\n1) It is the feature or the input which contains numbers from 2 to 999.\n\n2) This is the label or output variable which has 1 for prime numbers and zero for   non-prime.",
   "metadata": {
    "tags": [],
    "cell_id": "00004-acb51f8c-70f6-49a3-8e50-277ba7e76cb4",
    "deepnote_cell_type": "markdown"
   }
  },
  {
   "cell_type": "code",
   "metadata": {
    "tags": [],
    "cell_id": "00003-080fabb2-063c-4ada-a1e9-17fb566901e8",
    "deepnote_to_be_reexecuted": false,
    "source_hash": "9a961f10",
    "execution_start": 1622145286580,
    "execution_millis": 4,
    "output_cleared": false,
    "deepnote_cell_type": "code"
   },
   "source": "x_train = dataset[:1000][\"numbers\"]\ny_train = dataset[:1000][\"prime\"]\nx_test = dataset[1500:][\"numbers\"]\ny_test = dataset[1500:][\"prime\"]\n\nx_train = x_train.to_numpy()\ny_train = y_train.to_numpy()\nx_test  = x_test.to_numpy()\ny_test  = y_test.to_numpy()\n\nx_train = x_train.reshape(-1,1)\nx_test  = x_test.reshape(-1,1)",
   "execution_count": 4,
   "outputs": []
  },
  {
   "cell_type": "markdown",
   "source": "Model (Linear regression)",
   "metadata": {
    "tags": [],
    "cell_id": "00006-d5f383c1-4fd0-4dda-8421-fcfb667274b4",
    "deepnote_cell_type": "markdown"
   }
  },
  {
   "cell_type": "code",
   "metadata": {
    "tags": [],
    "cell_id": "00003-1703d14e-dd39-4a18-9258-5870154c08db",
    "deepnote_to_be_reexecuted": false,
    "source_hash": "d91f928a",
    "execution_start": 1622145286586,
    "execution_millis": 2,
    "deepnote_cell_type": "code"
   },
   "source": "lm = LinearRegression()",
   "execution_count": 5,
   "outputs": []
  },
  {
   "cell_type": "code",
   "metadata": {
    "tags": [],
    "cell_id": "00004-cf687e85-0850-41cb-99e4-fa314d270467",
    "deepnote_to_be_reexecuted": false,
    "source_hash": "ceed0293",
    "execution_start": 1622145286635,
    "execution_millis": 15,
    "deepnote_cell_type": "code"
   },
   "source": "lm.fit(x_train,y_train)",
   "execution_count": 6,
   "outputs": [
    {
     "output_type": "execute_result",
     "execution_count": 6,
     "data": {
      "text/plain": "LinearRegression()"
     },
     "metadata": {}
    }
   ]
  },
  {
   "cell_type": "code",
   "metadata": {
    "tags": [],
    "cell_id": "00006-cf60f7e0-aac0-445d-bf17-f00307495d81",
    "deepnote_to_be_reexecuted": false,
    "source_hash": "d9ee4b8a",
    "execution_start": 1622145286636,
    "execution_millis": 0,
    "deepnote_cell_type": "code"
   },
   "source": "y_pred = lm.predict(x_test)",
   "execution_count": 7,
   "outputs": []
  },
  {
   "cell_type": "code",
   "source": "",
   "metadata": {
    "tags": [],
    "cell_id": "00011-7a6e7575-9ded-48fc-9633-384c7db5db0e",
    "deepnote_cell_type": "code"
   },
   "outputs": [],
   "execution_count": null
  },
  {
   "cell_type": "code",
   "metadata": {
    "tags": [],
    "cell_id": "00007-8b89a3e1-893f-44a4-acf3-20061139c02c",
    "deepnote_to_be_reexecuted": false,
    "source_hash": "a9150498",
    "execution_start": 1622145286686,
    "execution_millis": 126,
    "deepnote_cell_type": "code"
   },
   "source": "plt.scatter(x_train[:50],y_train[:50],color=\"black\")\nplt.show()",
   "execution_count": 9,
   "outputs": [
    {
     "data": {
      "text/plain": "<Figure size 432x288 with 1 Axes>",
      "image/png": "[encoded data removed]"
     },
     "metadata": {
      "needs_background": "light",
      "image/png": {
       "width": 372,
       "height": 248
      }
     },
     "output_type": "display_data"
    }
   ]
  },
  {
   "cell_type": "markdown",
   "source": "Note :\n\n    However naive this might seem , I just wanted to see what patterns does a machine see in prime numbers.",
   "metadata": {
    "tags": [],
    "cell_id": "00014-22956e1b-cc77-4c72-bbb1-eb6281131d37",
    "deepnote_cell_type": "markdown"
   }
  },
  {
   "cell_type": "markdown",
   "source": "<a style='text-decoration:none;line-height:16px;display:flex;color:#5B5B62;padding:10px;justify-content:end;' href='https://deepnote.com?utm_source=created-in-deepnote-cell&projectId=34526eb4-012d-4eae-ac4d-720dbf770f4a' target=\"_blank\">\n<img alt='Created in deepnote.com' style='display:inline;max-height:16px;margin:0px;margin-right:7.5px;' src='data:image/svg+xml;base64,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' > </img>\nCreated in <span style='font-weight:600;margin-left:4px;'>Deepnote</span></a>",
   "metadata": {
    "tags": [],
    "created_in_deepnote_cell": true,
    "deepnote_cell_type": "markdown"
   }
  }
 ],
 "nbformat": 4,
 "nbformat_minor": 2,
 "metadata": {
  "orig_nbformat": 2,
  "deepnote": {
   "is_reactive": false
  },
  "deepnote_notebook_id": "b05bdd01-6de0-43d7-8b65-e5929610b46c",
  "deepnote_execution_queue": []
 }
}