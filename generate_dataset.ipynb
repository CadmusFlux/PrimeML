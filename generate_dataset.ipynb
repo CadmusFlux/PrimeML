{
 "cells": [
  {
   "cell_type": "code",
   "metadata": {
    "tags": [],
    "cell_id": "00000-3388441f-9cea-40e0-8438-29b76a0f3d11",
    "deepnote_to_be_reexecuted": false,
    "source_hash": "33898d33",
    "execution_start": 1621871844976,
    "execution_millis": 15,
    "deepnote_cell_type": "code"
   },
   "source": "import math\nimport numpy as np\nimport pandas as pd",
   "execution_count": null,
   "outputs": []
  },
  {
   "cell_type": "code",
   "metadata": {
    "tags": [],
    "cell_id": "00002-b0254872-0a8c-4fab-bb57-62f42117be74",
    "deepnote_to_be_reexecuted": false,
    "source_hash": "69e6aedb",
    "execution_start": 1621871844998,
    "execution_millis": 12,
    "output_cleared": false,
    "deepnote_cell_type": "code"
   },
   "source": "def generate_prime(n):\n\n    '''\n        function : Generate prime numbers between 2 and n\n\n        Param:\n                n: The number upto which prime numbers are to be generated.\n    '''\n\n    # Create numpy-array with n integer.\n\n    datas = np.arange(2,n,1,int)\n\n    i = 0\n\n    # Remove all multiples of numbers between (0 to 50)\n    \n    while i != len(datas):\n\n        curr_num = datas[i]\n\n        for j in range(i+1,len(datas)):\n\n            if datas[j] % curr_num == 0:\n\n                datas[j] = 0\n        \n\n        value = datas[i]\n        for index in range(i+1,len(datas)):\n\n            if 0 < datas[index] < 50:\n                i = index\n                break\n        \n        if value == datas[i]:\n            break\n\n    return datas",
   "execution_count": null,
   "outputs": []
  },
  {
   "cell_type": "code",
   "metadata": {
    "tags": [],
    "cell_id": "00003-288b7c31-3951-45ee-b9ae-5769f2c9c508",
    "deepnote_to_be_reexecuted": false,
    "source_hash": "9b30f57",
    "execution_start": 1621872178212,
    "execution_millis": 9,
    "output_cleared": true,
    "deepnote_cell_type": "code"
   },
   "source": "def generate_dataset(n):\n\n     '''\n        function : Create 2D array with binary boolean for prime numbers and\n                   save the value as csv through pandas.\n\n        Param:\n                n: The number upto which prime numbers are to be generated.\n    '''\n    prime = generate_prime(n)\n\n    x = np.arange(2,n,1,int)\n\n    y = list(map(lambda val: 1 if val != 0 else 0,prime))\n\n    data = np.column_stack((x,y))\n    dataset = pd.DataFrame(data,columns=[\"numbers\",\"prime\"])\n\n    dataset.to_csv(\"dataset\",index=False)\n\n    return dataset",
   "execution_count": null,
   "outputs": []
  },
  {
   "cell_type": "code",
   "metadata": {
    "tags": [],
    "cell_id": "00003-499c5c87-12c6-46d0-9c2e-969f9bcc9c31",
    "deepnote_to_be_reexecuted": false,
    "source_hash": "bfad699f",
    "execution_start": 1621871845035,
    "execution_millis": 94,
    "deepnote_cell_type": "code"
   },
   "source": "generate_dataset(1000)",
   "execution_count": null,
   "outputs": [
    {
     "output_type": "execute_result",
     "execution_count": 4,
     "data": {
      "application/vnd.deepnote.dataframe.v2+json": {
       "row_count": 998,
       "column_count": 2,
       "columns": [
        {
         "name": "numbers",
         "dtype": "int64",
         "stats": {
          "unique_count": 998,
          "nan_count": 0,
          "min": "2",
          "max": "999",
          "histogram": [
           {
            "bin_start": 2,
            "bin_end": 101.7,
            "count": 100
           },
           {
            "bin_start": 101.7,
            "bin_end": 201.4,
            "count": 100
           },
           {
            "bin_start": 201.4,
            "bin_end": 301.1,
            "count": 100
           },
           {
            "bin_start": 301.1,
            "bin_end": 400.8,
            "count": 99
           },
           {
            "bin_start": 400.8,
            "bin_end": 500.5,
            "count": 100
           },
           {
            "bin_start": 500.5,
            "bin_end": 600.2,
            "count": 100
           },
           {
            "bin_start": 600.2,
            "bin_end": 699.9,
            "count": 99
           },
           {
            "bin_start": 699.9,
            "bin_end": 799.6,
            "count": 100
           },
           {
            "bin_start": 799.6,
            "bin_end": 899.3000000000001,
            "count": 100
           },
           {
            "bin_start": 899.3000000000001,
            "bin_end": 999,
            "count": 100
           }
          ]
         }
        },
        {
         "name": "prime",
         "dtype": "int64",
         "stats": {
          "unique_count": 2,
          "nan_count": 0,
          "min": "0",
          "max": "1",
          "histogram": [
           {
            "bin_start": 0,
            "bin_end": 0.1,
            "count": 830
           },
           {
            "bin_start": 0.1,
            "bin_end": 0.2,
            "count": 0
           },
           {
            "bin_start": 0.2,
            "bin_end": 0.30000000000000004,
            "count": 0
           },
           {
            "bin_start": 0.30000000000000004,
            "bin_end": 0.4,
            "count": 0
           },
           {
            "bin_start": 0.4,
            "bin_end": 0.5,
            "count": 0
           },
           {
            "bin_start": 0.5,
            "bin_end": 0.6000000000000001,
            "count": 0
           },
           {
            "bin_start": 0.6000000000000001,
            "bin_end": 0.7000000000000001,
            "count": 0
           },
           {
            "bin_start": 0.7000000000000001,
            "bin_end": 0.8,
            "count": 0
           },
           {
            "bin_start": 0.8,
            "bin_end": 0.9,
            "count": 0
           },
           {
            "bin_start": 0.9,
            "bin_end": 1,
            "count": 168
           }
          ]
         }
        },
        {
         "name": "_deepnote_index_column",
         "dtype": "int64"
        }
       ],
       "rows_top": [
        {
         "numbers": 2,
         "prime": 1,
         "_deepnote_index_column": 0
        },
        {
         "numbers": 3,
         "prime": 1,
         "_deepnote_index_column": 1
        },
        {
         "numbers": 4,
         "prime": 0,
         "_deepnote_index_column": 2
        },
        {
         "numbers": 5,
         "prime": 1,
         "_deepnote_index_column": 3
        },
        {
         "numbers": 6,
         "prime": 0,
         "_deepnote_index_column": 4
        },
        {
         "numbers": 7,
         "prime": 1,
         "_deepnote_index_column": 5
        },
        {
         "numbers": 8,
         "prime": 0,
         "_deepnote_index_column": 6
        },
        {
         "numbers": 9,
         "prime": 0,
         "_deepnote_index_column": 7
        },
        {
         "numbers": 10,
         "prime": 0,
         "_deepnote_index_column": 8
        },
        {
         "numbers": 11,
         "prime": 1,
         "_deepnote_index_column": 9
        },
        {
         "numbers": 12,
         "prime": 0,
         "_deepnote_index_column": 10
        },
        {
         "numbers": 13,
         "prime": 1,
         "_deepnote_index_column": 11
        },
        {
         "numbers": 14,
         "prime": 0,
         "_deepnote_index_column": 12
        },
        {
         "numbers": 15,
         "prime": 0,
         "_deepnote_index_column": 13
        },
        {
         "numbers": 16,
         "prime": 0,
         "_deepnote_index_column": 14
        },
        {
         "numbers": 17,
         "prime": 1,
         "_deepnote_index_column": 15
        },
        {
         "numbers": 18,
         "prime": 0,
         "_deepnote_index_column": 16
        },
        {
         "numbers": 19,
         "prime": 1,
         "_deepnote_index_column": 17
        },
        {
         "numbers": 20,
         "prime": 0,
         "_deepnote_index_column": 18
        },
        {
         "numbers": 21,
         "prime": 0,
         "_deepnote_index_column": 19
        },
        {
         "numbers": 22,
         "prime": 0,
         "_deepnote_index_column": 20
        },
        {
         "numbers": 23,
         "prime": 1,
         "_deepnote_index_column": 21
        },
        {
         "numbers": 24,
         "prime": 0,
         "_deepnote_index_column": 22
        },
        {
         "numbers": 25,
         "prime": 0,
         "_deepnote_index_column": 23
        },
        {
         "numbers": 26,
         "prime": 0,
         "_deepnote_index_column": 24
        },
        {
         "numbers": 27,
         "prime": 0,
         "_deepnote_index_column": 25
        },
        {
         "numbers": 28,
         "prime": 0,
         "_deepnote_index_column": 26
        },
        {
         "numbers": 29,
         "prime": 1,
         "_deepnote_index_column": 27
        },
        {
         "numbers": 30,
         "prime": 0,
         "_deepnote_index_column": 28
        },
        {
         "numbers": 31,
         "prime": 1,
         "_deepnote_index_column": 29
        },
        {
         "numbers": 32,
         "prime": 0,
         "_deepnote_index_column": 30
        },
        {
         "numbers": 33,
         "prime": 0,
         "_deepnote_index_column": 31
        },
        {
         "numbers": 34,
         "prime": 0,
         "_deepnote_index_column": 32
        },
        {
         "numbers": 35,
         "prime": 0,
         "_deepnote_index_column": 33
        },
        {
         "numbers": 36,
         "prime": 0,
         "_deepnote_index_column": 34
        },
        {
         "numbers": 37,
         "prime": 1,
         "_deepnote_index_column": 35
        },
        {
         "numbers": 38,
         "prime": 0,
         "_deepnote_index_column": 36
        },
        {
         "numbers": 39,
         "prime": 0,
         "_deepnote_index_column": 37
        },
        {
         "numbers": 40,
         "prime": 0,
         "_deepnote_index_column": 38
        },
        {
         "numbers": 41,
         "prime": 1,
         "_deepnote_index_column": 39
        },
        {
         "numbers": 42,
         "prime": 0,
         "_deepnote_index_column": 40
        },
        {
         "numbers": 43,
         "prime": 1,
         "_deepnote_index_column": 41
        },
        {
         "numbers": 44,
         "prime": 0,
         "_deepnote_index_column": 42
        },
        {
         "numbers": 45,
         "prime": 0,
         "_deepnote_index_column": 43
        },
        {
         "numbers": 46,
         "prime": 0,
         "_deepnote_index_column": 44
        },
        {
         "numbers": 47,
         "prime": 1,
         "_deepnote_index_column": 45
        },
        {
         "numbers": 48,
         "prime": 0,
         "_deepnote_index_column": 46
        },
        {
         "numbers": 49,
         "prime": 0,
         "_deepnote_index_column": 47
        },
        {
         "numbers": 50,
         "prime": 0,
         "_deepnote_index_column": 48
        },
        {
         "numbers": 51,
         "prime": 0,
         "_deepnote_index_column": 49
        },
        {
         "numbers": 52,
         "prime": 0,
         "_deepnote_index_column": 50
        },
        {
         "numbers": 53,
         "prime": 1,
         "_deepnote_index_column": 51
        },
        {
         "numbers": 54,
         "prime": 0,
         "_deepnote_index_column": 52
        },
        {
         "numbers": 55,
         "prime": 0,
         "_deepnote_index_column": 53
        },
        {
         "numbers": 56,
         "prime": 0,
         "_deepnote_index_column": 54
        },
        {
         "numbers": 57,
         "prime": 0,
         "_deepnote_index_column": 55
        },
        {
         "numbers": 58,
         "prime": 0,
         "_deepnote_index_column": 56
        },
        {
         "numbers": 59,
         "prime": 1,
         "_deepnote_index_column": 57
        },
        {
         "numbers": 60,
         "prime": 0,
         "_deepnote_index_column": 58
        },
        {
         "numbers": 61,
         "prime": 1,
         "_deepnote_index_column": 59
        },
        {
         "numbers": 62,
         "prime": 0,
         "_deepnote_index_column": 60
        },
        {
         "numbers": 63,
         "prime": 0,
         "_deepnote_index_column": 61
        },
        {
         "numbers": 64,
         "prime": 0,
         "_deepnote_index_column": 62
        },
        {
         "numbers": 65,
         "prime": 0,
         "_deepnote_index_column": 63
        },
        {
         "numbers": 66,
         "prime": 0,
         "_deepnote_index_column": 64
        },
        {
         "numbers": 67,
         "prime": 1,
         "_deepnote_index_column": 65
        },
        {
         "numbers": 68,
         "prime": 0,
         "_deepnote_index_column": 66
        },
        {
         "numbers": 69,
         "prime": 0,
         "_deepnote_index_column": 67
        },
        {
         "numbers": 70,
         "prime": 0,
         "_deepnote_index_column": 68
        },
        {
         "numbers": 71,
         "prime": 1,
         "_deepnote_index_column": 69
        },
        {
         "numbers": 72,
         "prime": 0,
         "_deepnote_index_column": 70
        },
        {
         "numbers": 73,
         "prime": 1,
         "_deepnote_index_column": 71
        },
        {
         "numbers": 74,
         "prime": 0,
         "_deepnote_index_column": 72
        },
        {
         "numbers": 75,
         "prime": 0,
         "_deepnote_index_column": 73
        },
        {
         "numbers": 76,
         "prime": 0,
         "_deepnote_index_column": 74
        },
        {
         "numbers": 77,
         "prime": 0,
         "_deepnote_index_column": 75
        },
        {
         "numbers": 78,
         "prime": 0,
         "_deepnote_index_column": 76
        },
        {
         "numbers": 79,
         "prime": 1,
         "_deepnote_index_column": 77
        },
        {
         "numbers": 80,
         "prime": 0,
         "_deepnote_index_column": 78
        },
        {
         "numbers": 81,
         "prime": 0,
         "_deepnote_index_column": 79
        },
        {
         "numbers": 82,
         "prime": 0,
         "_deepnote_index_column": 80
        },
        {
         "numbers": 83,
         "prime": 1,
         "_deepnote_index_column": 81
        },
        {
         "numbers": 84,
         "prime": 0,
         "_deepnote_index_column": 82
        },
        {
         "numbers": 85,
         "prime": 0,
         "_deepnote_index_column": 83
        },
        {
         "numbers": 86,
         "prime": 0,
         "_deepnote_index_column": 84
        },
        {
         "numbers": 87,
         "prime": 0,
         "_deepnote_index_column": 85
        },
        {
         "numbers": 88,
         "prime": 0,
         "_deepnote_index_column": 86
        },
        {
         "numbers": 89,
         "prime": 1,
         "_deepnote_index_column": 87
        },
        {
         "numbers": 90,
         "prime": 0,
         "_deepnote_index_column": 88
        },
        {
         "numbers": 91,
         "prime": 0,
         "_deepnote_index_column": 89
        },
        {
         "numbers": 92,
         "prime": 0,
         "_deepnote_index_column": 90
        },
        {
         "numbers": 93,
         "prime": 0,
         "_deepnote_index_column": 91
        },
        {
         "numbers": 94,
         "prime": 0,
         "_deepnote_index_column": 92
        },
        {
         "numbers": 95,
         "prime": 0,
         "_deepnote_index_column": 93
        },
        {
         "numbers": 96,
         "prime": 0,
         "_deepnote_index_column": 94
        },
        {
         "numbers": 97,
         "prime": 1,
         "_deepnote_index_column": 95
        },
        {
         "numbers": 98,
         "prime": 0,
         "_deepnote_index_column": 96
        },
        {
         "numbers": 99,
         "prime": 0,
         "_deepnote_index_column": 97
        },
        {
         "numbers": 100,
         "prime": 0,
         "_deepnote_index_column": 98
        },
        {
         "numbers": 101,
         "prime": 1,
         "_deepnote_index_column": 99
        },
        {
         "numbers": 102,
         "prime": 0,
         "_deepnote_index_column": 100
        },
        {
         "numbers": 103,
         "prime": 1,
         "_deepnote_index_column": 101
        },
        {
         "numbers": 104,
         "prime": 0,
         "_deepnote_index_column": 102
        },
        {
         "numbers": 105,
         "prime": 0,
         "_deepnote_index_column": 103
        },
        {
         "numbers": 106,
         "prime": 0,
         "_deepnote_index_column": 104
        },
        {
         "numbers": 107,
         "prime": 1,
         "_deepnote_index_column": 105
        },
        {
         "numbers": 108,
         "prime": 0,
         "_deepnote_index_column": 106
        },
        {
         "numbers": 109,
         "prime": 1,
         "_deepnote_index_column": 107
        },
        {
         "numbers": 110,
         "prime": 0,
         "_deepnote_index_column": 108
        },
        {
         "numbers": 111,
         "prime": 0,
         "_deepnote_index_column": 109
        },
        {
         "numbers": 112,
         "prime": 0,
         "_deepnote_index_column": 110
        },
        {
         "numbers": 113,
         "prime": 1,
         "_deepnote_index_column": 111
        },
        {
         "numbers": 114,
         "prime": 0,
         "_deepnote_index_column": 112
        },
        {
         "numbers": 115,
         "prime": 0,
         "_deepnote_index_column": 113
        },
        {
         "numbers": 116,
         "prime": 0,
         "_deepnote_index_column": 114
        },
        {
         "numbers": 117,
         "prime": 0,
         "_deepnote_index_column": 115
        },
        {
         "numbers": 118,
         "prime": 0,
         "_deepnote_index_column": 116
        },
        {
         "numbers": 119,
         "prime": 0,
         "_deepnote_index_column": 117
        },
        {
         "numbers": 120,
         "prime": 0,
         "_deepnote_index_column": 118
        },
        {
         "numbers": 121,
         "prime": 0,
         "_deepnote_index_column": 119
        },
        {
         "numbers": 122,
         "prime": 0,
         "_deepnote_index_column": 120
        },
        {
         "numbers": 123,
         "prime": 0,
         "_deepnote_index_column": 121
        },
        {
         "numbers": 124,
         "prime": 0,
         "_deepnote_index_column": 122
        },
        {
         "numbers": 125,
         "prime": 0,
         "_deepnote_index_column": 123
        },
        {
         "numbers": 126,
         "prime": 0,
         "_deepnote_index_column": 124
        },
        {
         "numbers": 127,
         "prime": 1,
         "_deepnote_index_column": 125
        },
        {
         "numbers": 128,
         "prime": 0,
         "_deepnote_index_column": 126
        },
        {
         "numbers": 129,
         "prime": 0,
         "_deepnote_index_column": 127
        },
        {
         "numbers": 130,
         "prime": 0,
         "_deepnote_index_column": 128
        },
        {
         "numbers": 131,
         "prime": 1,
         "_deepnote_index_column": 129
        },
        {
         "numbers": 132,
         "prime": 0,
         "_deepnote_index_column": 130
        },
        {
         "numbers": 133,
         "prime": 0,
         "_deepnote_index_column": 131
        },
        {
         "numbers": 134,
         "prime": 0,
         "_deepnote_index_column": 132
        },
        {
         "numbers": 135,
         "prime": 0,
         "_deepnote_index_column": 133
        },
        {
         "numbers": 136,
         "prime": 0,
         "_deepnote_index_column": 134
        },
        {
         "numbers": 137,
         "prime": 1,
         "_deepnote_index_column": 135
        },
        {
         "numbers": 138,
         "prime": 0,
         "_deepnote_index_column": 136
        },
        {
         "numbers": 139,
         "prime": 1,
         "_deepnote_index_column": 137
        },
        {
         "numbers": 140,
         "prime": 0,
         "_deepnote_index_column": 138
        },
        {
         "numbers": 141,
         "prime": 0,
         "_deepnote_index_column": 139
        },
        {
         "numbers": 142,
         "prime": 0,
         "_deepnote_index_column": 140
        },
        {
         "numbers": 143,
         "prime": 0,
         "_deepnote_index_column": 141
        },
        {
         "numbers": 144,
         "prime": 0,
         "_deepnote_index_column": 142
        },
        {
         "numbers": 145,
         "prime": 0,
         "_deepnote_index_column": 143
        },
        {
         "numbers": 146,
         "prime": 0,
         "_deepnote_index_column": 144
        },
        {
         "numbers": 147,
         "prime": 0,
         "_deepnote_index_column": 145
        },
        {
         "numbers": 148,
         "prime": 0,
         "_deepnote_index_column": 146
        },
        {
         "numbers": 149,
         "prime": 1,
         "_deepnote_index_column": 147
        },
        {
         "numbers": 150,
         "prime": 0,
         "_deepnote_index_column": 148
        },
        {
         "numbers": 151,
         "prime": 1,
         "_deepnote_index_column": 149
        },
        {
         "numbers": 152,
         "prime": 0,
         "_deepnote_index_column": 150
        },
        {
         "numbers": 153,
         "prime": 0,
         "_deepnote_index_column": 151
        },
        {
         "numbers": 154,
         "prime": 0,
         "_deepnote_index_column": 152
        },
        {
         "numbers": 155,
         "prime": 0,
         "_deepnote_index_column": 153
        },
        {
         "numbers": 156,
         "prime": 0,
         "_deepnote_index_column": 154
        },
        {
         "numbers": 157,
         "prime": 1,
         "_deepnote_index_column": 155
        },
        {
         "numbers": 158,
         "prime": 0,
         "_deepnote_index_column": 156
        },
        {
         "numbers": 159,
         "prime": 0,
         "_deepnote_index_column": 157
        },
        {
         "numbers": 160,
         "prime": 0,
         "_deepnote_index_column": 158
        },
        {
         "numbers": 161,
         "prime": 0,
         "_deepnote_index_column": 159
        },
        {
         "numbers": 162,
         "prime": 0,
         "_deepnote_index_column": 160
        },
        {
         "numbers": 163,
         "prime": 1,
         "_deepnote_index_column": 161
        },
        {
         "numbers": 164,
         "prime": 0,
         "_deepnote_index_column": 162
        },
        {
         "numbers": 165,
         "prime": 0,
         "_deepnote_index_column": 163
        },
        {
         "numbers": 166,
         "prime": 0,
         "_deepnote_index_column": 164
        },
        {
         "numbers": 167,
         "prime": 1,
         "_deepnote_index_column": 165
        },
        {
         "numbers": 168,
         "prime": 0,
         "_deepnote_index_column": 166
        },
        {
         "numbers": 169,
         "prime": 0,
         "_deepnote_index_column": 167
        },
        {
         "numbers": 170,
         "prime": 0,
         "_deepnote_index_column": 168
        },
        {
         "numbers": 171,
         "prime": 0,
         "_deepnote_index_column": 169
        },
        {
         "numbers": 172,
         "prime": 0,
         "_deepnote_index_column": 170
        },
        {
         "numbers": 173,
         "prime": 1,
         "_deepnote_index_column": 171
        },
        {
         "numbers": 174,
         "prime": 0,
         "_deepnote_index_column": 172
        },
        {
         "numbers": 175,
         "prime": 0,
         "_deepnote_index_column": 173
        },
        {
         "numbers": 176,
         "prime": 0,
         "_deepnote_index_column": 174
        },
        {
         "numbers": 177,
         "prime": 0,
         "_deepnote_index_column": 175
        },
        {
         "numbers": 178,
         "prime": 0,
         "_deepnote_index_column": 176
        },
        {
         "numbers": 179,
         "prime": 1,
         "_deepnote_index_column": 177
        },
        {
         "numbers": 180,
         "prime": 0,
         "_deepnote_index_column": 178
        },
        {
         "numbers": 181,
         "prime": 1,
         "_deepnote_index_column": 179
        },
        {
         "numbers": 182,
         "prime": 0,
         "_deepnote_index_column": 180
        },
        {
         "numbers": 183,
         "prime": 0,
         "_deepnote_index_column": 181
        },
        {
         "numbers": 184,
         "prime": 0,
         "_deepnote_index_column": 182
        },
        {
         "numbers": 185,
         "prime": 0,
         "_deepnote_index_column": 183
        },
        {
         "numbers": 186,
         "prime": 0,
         "_deepnote_index_column": 184
        },
        {
         "numbers": 187,
         "prime": 0,
         "_deepnote_index_column": 185
        },
        {
         "numbers": 188,
         "prime": 0,
         "_deepnote_index_column": 186
        },
        {
         "numbers": 189,
         "prime": 0,
         "_deepnote_index_column": 187
        },
        {
         "numbers": 190,
         "prime": 0,
         "_deepnote_index_column": 188
        },
        {
         "numbers": 191,
         "prime": 1,
         "_deepnote_index_column": 189
        },
        {
         "numbers": 192,
         "prime": 0,
         "_deepnote_index_column": 190
        },
        {
         "numbers": 193,
         "prime": 1,
         "_deepnote_index_column": 191
        },
        {
         "numbers": 194,
         "prime": 0,
         "_deepnote_index_column": 192
        },
        {
         "numbers": 195,
         "prime": 0,
         "_deepnote_index_column": 193
        },
        {
         "numbers": 196,
         "prime": 0,
         "_deepnote_index_column": 194
        },
        {
         "numbers": 197,
         "prime": 1,
         "_deepnote_index_column": 195
        },
        {
         "numbers": 198,
         "prime": 0,
         "_deepnote_index_column": 196
        },
        {
         "numbers": 199,
         "prime": 1,
         "_deepnote_index_column": 197
        },
        {
         "numbers": 200,
         "prime": 0,
         "_deepnote_index_column": 198
        },
        {
         "numbers": 201,
         "prime": 0,
         "_deepnote_index_column": 199
        },
        {
         "numbers": 202,
         "prime": 0,
         "_deepnote_index_column": 200
        },
        {
         "numbers": 203,
         "prime": 0,
         "_deepnote_index_column": 201
        },
        {
         "numbers": 204,
         "prime": 0,
         "_deepnote_index_column": 202
        },
        {
         "numbers": 205,
         "prime": 0,
         "_deepnote_index_column": 203
        },
        {
         "numbers": 206,
         "prime": 0,
         "_deepnote_index_column": 204
        },
        {
         "numbers": 207,
         "prime": 0,
         "_deepnote_index_column": 205
        },
        {
         "numbers": 208,
         "prime": 0,
         "_deepnote_index_column": 206
        },
        {
         "numbers": 209,
         "prime": 0,
         "_deepnote_index_column": 207
        },
        {
         "numbers": 210,
         "prime": 0,
         "_deepnote_index_column": 208
        },
        {
         "numbers": 211,
         "prime": 1,
         "_deepnote_index_column": 209
        },
        {
         "numbers": 212,
         "prime": 0,
         "_deepnote_index_column": 210
        },
        {
         "numbers": 213,
         "prime": 0,
         "_deepnote_index_column": 211
        },
        {
         "numbers": 214,
         "prime": 0,
         "_deepnote_index_column": 212
        },
        {
         "numbers": 215,
         "prime": 0,
         "_deepnote_index_column": 213
        },
        {
         "numbers": 216,
         "prime": 0,
         "_deepnote_index_column": 214
        },
        {
         "numbers": 217,
         "prime": 0,
         "_deepnote_index_column": 215
        },
        {
         "numbers": 218,
         "prime": 0,
         "_deepnote_index_column": 216
        },
        {
         "numbers": 219,
         "prime": 0,
         "_deepnote_index_column": 217
        },
        {
         "numbers": 220,
         "prime": 0,
         "_deepnote_index_column": 218
        },
        {
         "numbers": 221,
         "prime": 0,
         "_deepnote_index_column": 219
        },
        {
         "numbers": 222,
         "prime": 0,
         "_deepnote_index_column": 220
        },
        {
         "numbers": 223,
         "prime": 1,
         "_deepnote_index_column": 221
        },
        {
         "numbers": 224,
         "prime": 0,
         "_deepnote_index_column": 222
        },
        {
         "numbers": 225,
         "prime": 0,
         "_deepnote_index_column": 223
        },
        {
         "numbers": 226,
         "prime": 0,
         "_deepnote_index_column": 224
        },
        {
         "numbers": 227,
         "prime": 1,
         "_deepnote_index_column": 225
        },
        {
         "numbers": 228,
         "prime": 0,
         "_deepnote_index_column": 226
        },
        {
         "numbers": 229,
         "prime": 1,
         "_deepnote_index_column": 227
        },
        {
         "numbers": 230,
         "prime": 0,
         "_deepnote_index_column": 228
        },
        {
         "numbers": 231,
         "prime": 0,
         "_deepnote_index_column": 229
        },
        {
         "numbers": 232,
         "prime": 0,
         "_deepnote_index_column": 230
        },
        {
         "numbers": 233,
         "prime": 1,
         "_deepnote_index_column": 231
        },
        {
         "numbers": 234,
         "prime": 0,
         "_deepnote_index_column": 232
        },
        {
         "numbers": 235,
         "prime": 0,
         "_deepnote_index_column": 233
        },
        {
         "numbers": 236,
         "prime": 0,
         "_deepnote_index_column": 234
        },
        {
         "numbers": 237,
         "prime": 0,
         "_deepnote_index_column": 235
        },
        {
         "numbers": 238,
         "prime": 0,
         "_deepnote_index_column": 236
        },
        {
         "numbers": 239,
         "prime": 1,
         "_deepnote_index_column": 237
        },
        {
         "numbers": 240,
         "prime": 0,
         "_deepnote_index_column": 238
        },
        {
         "numbers": 241,
         "prime": 1,
         "_deepnote_index_column": 239
        },
        {
         "numbers": 242,
         "prime": 0,
         "_deepnote_index_column": 240
        },
        {
         "numbers": 243,
         "prime": 0,
         "_deepnote_index_column": 241
        },
        {
         "numbers": 244,
         "prime": 0,
         "_deepnote_index_column": 242
        },
        {
         "numbers": 245,
         "prime": 0,
         "_deepnote_index_column": 243
        },
        {
         "numbers": 246,
         "prime": 0,
         "_deepnote_index_column": 244
        },
        {
         "numbers": 247,
         "prime": 0,
         "_deepnote_index_column": 245
        },
        {
         "numbers": 248,
         "prime": 0,
         "_deepnote_index_column": 246
        },
        {
         "numbers": 249,
         "prime": 0,
         "_deepnote_index_column": 247
        },
        {
         "numbers": 250,
         "prime": 0,
         "_deepnote_index_column": 248
        },
        {
         "numbers": 251,
         "prime": 1,
         "_deepnote_index_column": 249
        }
       ],
       "rows_bottom": [
        {
         "numbers": 750,
         "prime": 0,
         "_deepnote_index_column": 748
        },
        {
         "numbers": 751,
         "prime": 1,
         "_deepnote_index_column": 749
        },
        {
         "numbers": 752,
         "prime": 0,
         "_deepnote_index_column": 750
        },
        {
         "numbers": 753,
         "prime": 0,
         "_deepnote_index_column": 751
        },
        {
         "numbers": 754,
         "prime": 0,
         "_deepnote_index_column": 752
        },
        {
         "numbers": 755,
         "prime": 0,
         "_deepnote_index_column": 753
        },
        {
         "numbers": 756,
         "prime": 0,
         "_deepnote_index_column": 754
        },
        {
         "numbers": 757,
         "prime": 1,
         "_deepnote_index_column": 755
        },
        {
         "numbers": 758,
         "prime": 0,
         "_deepnote_index_column": 756
        },
        {
         "numbers": 759,
         "prime": 0,
         "_deepnote_index_column": 757
        },
        {
         "numbers": 760,
         "prime": 0,
         "_deepnote_index_column": 758
        },
        {
         "numbers": 761,
         "prime": 1,
         "_deepnote_index_column": 759
        },
        {
         "numbers": 762,
         "prime": 0,
         "_deepnote_index_column": 760
        },
        {
         "numbers": 763,
         "prime": 0,
         "_deepnote_index_column": 761
        },
        {
         "numbers": 764,
         "prime": 0,
         "_deepnote_index_column": 762
        },
        {
         "numbers": 765,
         "prime": 0,
         "_deepnote_index_column": 763
        },
        {
         "numbers": 766,
         "prime": 0,
         "_deepnote_index_column": 764
        },
        {
         "numbers": 767,
         "prime": 0,
         "_deepnote_index_column": 765
        },
        {
         "numbers": 768,
         "prime": 0,
         "_deepnote_index_column": 766
        },
        {
         "numbers": 769,
         "prime": 1,
         "_deepnote_index_column": 767
        },
        {
         "numbers": 770,
         "prime": 0,
         "_deepnote_index_column": 768
        },
        {
         "numbers": 771,
         "prime": 0,
         "_deepnote_index_column": 769
        },
        {
         "numbers": 772,
         "prime": 0,
         "_deepnote_index_column": 770
        },
        {
         "numbers": 773,
         "prime": 1,
         "_deepnote_index_column": 771
        },
        {
         "numbers": 774,
         "prime": 0,
         "_deepnote_index_column": 772
        },
        {
         "numbers": 775,
         "prime": 0,
         "_deepnote_index_column": 773
        },
        {
         "numbers": 776,
         "prime": 0,
         "_deepnote_index_column": 774
        },
        {
         "numbers": 777,
         "prime": 0,
         "_deepnote_index_column": 775
        },
        {
         "numbers": 778,
         "prime": 0,
         "_deepnote_index_column": 776
        },
        {
         "numbers": 779,
         "prime": 0,
         "_deepnote_index_column": 777
        },
        {
         "numbers": 780,
         "prime": 0,
         "_deepnote_index_column": 778
        },
        {
         "numbers": 781,
         "prime": 0,
         "_deepnote_index_column": 779
        },
        {
         "numbers": 782,
         "prime": 0,
         "_deepnote_index_column": 780
        },
        {
         "numbers": 783,
         "prime": 0,
         "_deepnote_index_column": 781
        },
        {
         "numbers": 784,
         "prime": 0,
         "_deepnote_index_column": 782
        },
        {
         "numbers": 785,
         "prime": 0,
         "_deepnote_index_column": 783
        },
        {
         "numbers": 786,
         "prime": 0,
         "_deepnote_index_column": 784
        },
        {
         "numbers": 787,
         "prime": 1,
         "_deepnote_index_column": 785
        },
        {
         "numbers": 788,
         "prime": 0,
         "_deepnote_index_column": 786
        },
        {
         "numbers": 789,
         "prime": 0,
         "_deepnote_index_column": 787
        },
        {
         "numbers": 790,
         "prime": 0,
         "_deepnote_index_column": 788
        },
        {
         "numbers": 791,
         "prime": 0,
         "_deepnote_index_column": 789
        },
        {
         "numbers": 792,
         "prime": 0,
         "_deepnote_index_column": 790
        },
        {
         "numbers": 793,
         "prime": 0,
         "_deepnote_index_column": 791
        },
        {
         "numbers": 794,
         "prime": 0,
         "_deepnote_index_column": 792
        },
        {
         "numbers": 795,
         "prime": 0,
         "_deepnote_index_column": 793
        },
        {
         "numbers": 796,
         "prime": 0,
         "_deepnote_index_column": 794
        },
        {
         "numbers": 797,
         "prime": 1,
         "_deepnote_index_column": 795
        },
        {
         "numbers": 798,
         "prime": 0,
         "_deepnote_index_column": 796
        },
        {
         "numbers": 799,
         "prime": 0,
         "_deepnote_index_column": 797
        },
        {
         "numbers": 800,
         "prime": 0,
         "_deepnote_index_column": 798
        },
        {
         "numbers": 801,
         "prime": 0,
         "_deepnote_index_column": 799
        },
        {
         "numbers": 802,
         "prime": 0,
         "_deepnote_index_column": 800
        },
        {
         "numbers": 803,
         "prime": 0,
         "_deepnote_index_column": 801
        },
        {
         "numbers": 804,
         "prime": 0,
         "_deepnote_index_column": 802
        },
        {
         "numbers": 805,
         "prime": 0,
         "_deepnote_index_column": 803
        },
        {
         "numbers": 806,
         "prime": 0,
         "_deepnote_index_column": 804
        },
        {
         "numbers": 807,
         "prime": 0,
         "_deepnote_index_column": 805
        },
        {
         "numbers": 808,
         "prime": 0,
         "_deepnote_index_column": 806
        },
        {
         "numbers": 809,
         "prime": 1,
         "_deepnote_index_column": 807
        },
        {
         "numbers": 810,
         "prime": 0,
         "_deepnote_index_column": 808
        },
        {
         "numbers": 811,
         "prime": 1,
         "_deepnote_index_column": 809
        },
        {
         "numbers": 812,
         "prime": 0,
         "_deepnote_index_column": 810
        },
        {
         "numbers": 813,
         "prime": 0,
         "_deepnote_index_column": 811
        },
        {
         "numbers": 814,
         "prime": 0,
         "_deepnote_index_column": 812
        },
        {
         "numbers": 815,
         "prime": 0,
         "_deepnote_index_column": 813
        },
        {
         "numbers": 816,
         "prime": 0,
         "_deepnote_index_column": 814
        },
        {
         "numbers": 817,
         "prime": 0,
         "_deepnote_index_column": 815
        },
        {
         "numbers": 818,
         "prime": 0,
         "_deepnote_index_column": 816
        },
        {
         "numbers": 819,
         "prime": 0,
         "_deepnote_index_column": 817
        },
        {
         "numbers": 820,
         "prime": 0,
         "_deepnote_index_column": 818
        },
        {
         "numbers": 821,
         "prime": 1,
         "_deepnote_index_column": 819
        },
        {
         "numbers": 822,
         "prime": 0,
         "_deepnote_index_column": 820
        },
        {
         "numbers": 823,
         "prime": 1,
         "_deepnote_index_column": 821
        },
        {
         "numbers": 824,
         "prime": 0,
         "_deepnote_index_column": 822
        },
        {
         "numbers": 825,
         "prime": 0,
         "_deepnote_index_column": 823
        },
        {
         "numbers": 826,
         "prime": 0,
         "_deepnote_index_column": 824
        },
        {
         "numbers": 827,
         "prime": 1,
         "_deepnote_index_column": 825
        },
        {
         "numbers": 828,
         "prime": 0,
         "_deepnote_index_column": 826
        },
        {
         "numbers": 829,
         "prime": 1,
         "_deepnote_index_column": 827
        },
        {
         "numbers": 830,
         "prime": 0,
         "_deepnote_index_column": 828
        },
        {
         "numbers": 831,
         "prime": 0,
         "_deepnote_index_column": 829
        },
        {
         "numbers": 832,
         "prime": 0,
         "_deepnote_index_column": 830
        },
        {
         "numbers": 833,
         "prime": 0,
         "_deepnote_index_column": 831
        },
        {
         "numbers": 834,
         "prime": 0,
         "_deepnote_index_column": 832
        },
        {
         "numbers": 835,
         "prime": 0,
         "_deepnote_index_column": 833
        },
        {
         "numbers": 836,
         "prime": 0,
         "_deepnote_index_column": 834
        },
        {
         "numbers": 837,
         "prime": 0,
         "_deepnote_index_column": 835
        },
        {
         "numbers": 838,
         "prime": 0,
         "_deepnote_index_column": 836
        },
        {
         "numbers": 839,
         "prime": 1,
         "_deepnote_index_column": 837
        },
        {
         "numbers": 840,
         "prime": 0,
         "_deepnote_index_column": 838
        },
        {
         "numbers": 841,
         "prime": 0,
         "_deepnote_index_column": 839
        },
        {
         "numbers": 842,
         "prime": 0,
         "_deepnote_index_column": 840
        },
        {
         "numbers": 843,
         "prime": 0,
         "_deepnote_index_column": 841
        },
        {
         "numbers": 844,
         "prime": 0,
         "_deepnote_index_column": 842
        },
        {
         "numbers": 845,
         "prime": 0,
         "_deepnote_index_column": 843
        },
        {
         "numbers": 846,
         "prime": 0,
         "_deepnote_index_column": 844
        },
        {
         "numbers": 847,
         "prime": 0,
         "_deepnote_index_column": 845
        },
        {
         "numbers": 848,
         "prime": 0,
         "_deepnote_index_column": 846
        },
        {
         "numbers": 849,
         "prime": 0,
         "_deepnote_index_column": 847
        },
        {
         "numbers": 850,
         "prime": 0,
         "_deepnote_index_column": 848
        },
        {
         "numbers": 851,
         "prime": 0,
         "_deepnote_index_column": 849
        },
        {
         "numbers": 852,
         "prime": 0,
         "_deepnote_index_column": 850
        },
        {
         "numbers": 853,
         "prime": 1,
         "_deepnote_index_column": 851
        },
        {
         "numbers": 854,
         "prime": 0,
         "_deepnote_index_column": 852
        },
        {
         "numbers": 855,
         "prime": 0,
         "_deepnote_index_column": 853
        },
        {
         "numbers": 856,
         "prime": 0,
         "_deepnote_index_column": 854
        },
        {
         "numbers": 857,
         "prime": 1,
         "_deepnote_index_column": 855
        },
        {
         "numbers": 858,
         "prime": 0,
         "_deepnote_index_column": 856
        },
        {
         "numbers": 859,
         "prime": 1,
         "_deepnote_index_column": 857
        },
        {
         "numbers": 860,
         "prime": 0,
         "_deepnote_index_column": 858
        },
        {
         "numbers": 861,
         "prime": 0,
         "_deepnote_index_column": 859
        },
        {
         "numbers": 862,
         "prime": 0,
         "_deepnote_index_column": 860
        },
        {
         "numbers": 863,
         "prime": 1,
         "_deepnote_index_column": 861
        },
        {
         "numbers": 864,
         "prime": 0,
         "_deepnote_index_column": 862
        },
        {
         "numbers": 865,
         "prime": 0,
         "_deepnote_index_column": 863
        },
        {
         "numbers": 866,
         "prime": 0,
         "_deepnote_index_column": 864
        },
        {
         "numbers": 867,
         "prime": 0,
         "_deepnote_index_column": 865
        },
        {
         "numbers": 868,
         "prime": 0,
         "_deepnote_index_column": 866
        },
        {
         "numbers": 869,
         "prime": 0,
         "_deepnote_index_column": 867
        },
        {
         "numbers": 870,
         "prime": 0,
         "_deepnote_index_column": 868
        },
        {
         "numbers": 871,
         "prime": 0,
         "_deepnote_index_column": 869
        },
        {
         "numbers": 872,
         "prime": 0,
         "_deepnote_index_column": 870
        },
        {
         "numbers": 873,
         "prime": 0,
         "_deepnote_index_column": 871
        },
        {
         "numbers": 874,
         "prime": 0,
         "_deepnote_index_column": 872
        },
        {
         "numbers": 875,
         "prime": 0,
         "_deepnote_index_column": 873
        },
        {
         "numbers": 876,
         "prime": 0,
         "_deepnote_index_column": 874
        },
        {
         "numbers": 877,
         "prime": 1,
         "_deepnote_index_column": 875
        },
        {
         "numbers": 878,
         "prime": 0,
         "_deepnote_index_column": 876
        },
        {
         "numbers": 879,
         "prime": 0,
         "_deepnote_index_column": 877
        },
        {
         "numbers": 880,
         "prime": 0,
         "_deepnote_index_column": 878
        },
        {
         "numbers": 881,
         "prime": 1,
         "_deepnote_index_column": 879
        },
        {
         "numbers": 882,
         "prime": 0,
         "_deepnote_index_column": 880
        },
        {
         "numbers": 883,
         "prime": 1,
         "_deepnote_index_column": 881
        },
        {
         "numbers": 884,
         "prime": 0,
         "_deepnote_index_column": 882
        },
        {
         "numbers": 885,
         "prime": 0,
         "_deepnote_index_column": 883
        },
        {
         "numbers": 886,
         "prime": 0,
         "_deepnote_index_column": 884
        },
        {
         "numbers": 887,
         "prime": 1,
         "_deepnote_index_column": 885
        },
        {
         "numbers": 888,
         "prime": 0,
         "_deepnote_index_column": 886
        },
        {
         "numbers": 889,
         "prime": 0,
         "_deepnote_index_column": 887
        },
        {
         "numbers": 890,
         "prime": 0,
         "_deepnote_index_column": 888
        },
        {
         "numbers": 891,
         "prime": 0,
         "_deepnote_index_column": 889
        },
        {
         "numbers": 892,
         "prime": 0,
         "_deepnote_index_column": 890
        },
        {
         "numbers": 893,
         "prime": 0,
         "_deepnote_index_column": 891
        },
        {
         "numbers": 894,
         "prime": 0,
         "_deepnote_index_column": 892
        },
        {
         "numbers": 895,
         "prime": 0,
         "_deepnote_index_column": 893
        },
        {
         "numbers": 896,
         "prime": 0,
         "_deepnote_index_column": 894
        },
        {
         "numbers": 897,
         "prime": 0,
         "_deepnote_index_column": 895
        },
        {
         "numbers": 898,
         "prime": 0,
         "_deepnote_index_column": 896
        },
        {
         "numbers": 899,
         "prime": 0,
         "_deepnote_index_column": 897
        },
        {
         "numbers": 900,
         "prime": 0,
         "_deepnote_index_column": 898
        },
        {
         "numbers": 901,
         "prime": 0,
         "_deepnote_index_column": 899
        },
        {
         "numbers": 902,
         "prime": 0,
         "_deepnote_index_column": 900
        },
        {
         "numbers": 903,
         "prime": 0,
         "_deepnote_index_column": 901
        },
        {
         "numbers": 904,
         "prime": 0,
         "_deepnote_index_column": 902
        },
        {
         "numbers": 905,
         "prime": 0,
         "_deepnote_index_column": 903
        },
        {
         "numbers": 906,
         "prime": 0,
         "_deepnote_index_column": 904
        },
        {
         "numbers": 907,
         "prime": 1,
         "_deepnote_index_column": 905
        },
        {
         "numbers": 908,
         "prime": 0,
         "_deepnote_index_column": 906
        },
        {
         "numbers": 909,
         "prime": 0,
         "_deepnote_index_column": 907
        },
        {
         "numbers": 910,
         "prime": 0,
         "_deepnote_index_column": 908
        },
        {
         "numbers": 911,
         "prime": 1,
         "_deepnote_index_column": 909
        },
        {
         "numbers": 912,
         "prime": 0,
         "_deepnote_index_column": 910
        },
        {
         "numbers": 913,
         "prime": 0,
         "_deepnote_index_column": 911
        },
        {
         "numbers": 914,
         "prime": 0,
         "_deepnote_index_column": 912
        },
        {
         "numbers": 915,
         "prime": 0,
         "_deepnote_index_column": 913
        },
        {
         "numbers": 916,
         "prime": 0,
         "_deepnote_index_column": 914
        },
        {
         "numbers": 917,
         "prime": 0,
         "_deepnote_index_column": 915
        },
        {
         "numbers": 918,
         "prime": 0,
         "_deepnote_index_column": 916
        },
        {
         "numbers": 919,
         "prime": 1,
         "_deepnote_index_column": 917
        },
        {
         "numbers": 920,
         "prime": 0,
         "_deepnote_index_column": 918
        },
        {
         "numbers": 921,
         "prime": 0,
         "_deepnote_index_column": 919
        },
        {
         "numbers": 922,
         "prime": 0,
         "_deepnote_index_column": 920
        },
        {
         "numbers": 923,
         "prime": 0,
         "_deepnote_index_column": 921
        },
        {
         "numbers": 924,
         "prime": 0,
         "_deepnote_index_column": 922
        },
        {
         "numbers": 925,
         "prime": 0,
         "_deepnote_index_column": 923
        },
        {
         "numbers": 926,
         "prime": 0,
         "_deepnote_index_column": 924
        },
        {
         "numbers": 927,
         "prime": 0,
         "_deepnote_index_column": 925
        },
        {
         "numbers": 928,
         "prime": 0,
         "_deepnote_index_column": 926
        },
        {
         "numbers": 929,
         "prime": 1,
         "_deepnote_index_column": 927
        },
        {
         "numbers": 930,
         "prime": 0,
         "_deepnote_index_column": 928
        },
        {
         "numbers": 931,
         "prime": 0,
         "_deepnote_index_column": 929
        },
        {
         "numbers": 932,
         "prime": 0,
         "_deepnote_index_column": 930
        },
        {
         "numbers": 933,
         "prime": 0,
         "_deepnote_index_column": 931
        },
        {
         "numbers": 934,
         "prime": 0,
         "_deepnote_index_column": 932
        },
        {
         "numbers": 935,
         "prime": 0,
         "_deepnote_index_column": 933
        },
        {
         "numbers": 936,
         "prime": 0,
         "_deepnote_index_column": 934
        },
        {
         "numbers": 937,
         "prime": 1,
         "_deepnote_index_column": 935
        },
        {
         "numbers": 938,
         "prime": 0,
         "_deepnote_index_column": 936
        },
        {
         "numbers": 939,
         "prime": 0,
         "_deepnote_index_column": 937
        },
        {
         "numbers": 940,
         "prime": 0,
         "_deepnote_index_column": 938
        },
        {
         "numbers": 941,
         "prime": 1,
         "_deepnote_index_column": 939
        },
        {
         "numbers": 942,
         "prime": 0,
         "_deepnote_index_column": 940
        },
        {
         "numbers": 943,
         "prime": 0,
         "_deepnote_index_column": 941
        },
        {
         "numbers": 944,
         "prime": 0,
         "_deepnote_index_column": 942
        },
        {
         "numbers": 945,
         "prime": 0,
         "_deepnote_index_column": 943
        },
        {
         "numbers": 946,
         "prime": 0,
         "_deepnote_index_column": 944
        },
        {
         "numbers": 947,
         "prime": 1,
         "_deepnote_index_column": 945
        },
        {
         "numbers": 948,
         "prime": 0,
         "_deepnote_index_column": 946
        },
        {
         "numbers": 949,
         "prime": 0,
         "_deepnote_index_column": 947
        },
        {
         "numbers": 950,
         "prime": 0,
         "_deepnote_index_column": 948
        },
        {
         "numbers": 951,
         "prime": 0,
         "_deepnote_index_column": 949
        },
        {
         "numbers": 952,
         "prime": 0,
         "_deepnote_index_column": 950
        },
        {
         "numbers": 953,
         "prime": 1,
         "_deepnote_index_column": 951
        },
        {
         "numbers": 954,
         "prime": 0,
         "_deepnote_index_column": 952
        },
        {
         "numbers": 955,
         "prime": 0,
         "_deepnote_index_column": 953
        },
        {
         "numbers": 956,
         "prime": 0,
         "_deepnote_index_column": 954
        },
        {
         "numbers": 957,
         "prime": 0,
         "_deepnote_index_column": 955
        },
        {
         "numbers": 958,
         "prime": 0,
         "_deepnote_index_column": 956
        },
        {
         "numbers": 959,
         "prime": 0,
         "_deepnote_index_column": 957
        },
        {
         "numbers": 960,
         "prime": 0,
         "_deepnote_index_column": 958
        },
        {
         "numbers": 961,
         "prime": 0,
         "_deepnote_index_column": 959
        },
        {
         "numbers": 962,
         "prime": 0,
         "_deepnote_index_column": 960
        },
        {
         "numbers": 963,
         "prime": 0,
         "_deepnote_index_column": 961
        },
        {
         "numbers": 964,
         "prime": 0,
         "_deepnote_index_column": 962
        },
        {
         "numbers": 965,
         "prime": 0,
         "_deepnote_index_column": 963
        },
        {
         "numbers": 966,
         "prime": 0,
         "_deepnote_index_column": 964
        },
        {
         "numbers": 967,
         "prime": 1,
         "_deepnote_index_column": 965
        },
        {
         "numbers": 968,
         "prime": 0,
         "_deepnote_index_column": 966
        },
        {
         "numbers": 969,
         "prime": 0,
         "_deepnote_index_column": 967
        },
        {
         "numbers": 970,
         "prime": 0,
         "_deepnote_index_column": 968
        },
        {
         "numbers": 971,
         "prime": 1,
         "_deepnote_index_column": 969
        },
        {
         "numbers": 972,
         "prime": 0,
         "_deepnote_index_column": 970
        },
        {
         "numbers": 973,
         "prime": 0,
         "_deepnote_index_column": 971
        },
        {
         "numbers": 974,
         "prime": 0,
         "_deepnote_index_column": 972
        },
        {
         "numbers": 975,
         "prime": 0,
         "_deepnote_index_column": 973
        },
        {
         "numbers": 976,
         "prime": 0,
         "_deepnote_index_column": 974
        },
        {
         "numbers": 977,
         "prime": 1,
         "_deepnote_index_column": 975
        },
        {
         "numbers": 978,
         "prime": 0,
         "_deepnote_index_column": 976
        },
        {
         "numbers": 979,
         "prime": 0,
         "_deepnote_index_column": 977
        },
        {
         "numbers": 980,
         "prime": 0,
         "_deepnote_index_column": 978
        },
        {
         "numbers": 981,
         "prime": 0,
         "_deepnote_index_column": 979
        },
        {
         "numbers": 982,
         "prime": 0,
         "_deepnote_index_column": 980
        },
        {
         "numbers": 983,
         "prime": 1,
         "_deepnote_index_column": 981
        },
        {
         "numbers": 984,
         "prime": 0,
         "_deepnote_index_column": 982
        },
        {
         "numbers": 985,
         "prime": 0,
         "_deepnote_index_column": 983
        },
        {
         "numbers": 986,
         "prime": 0,
         "_deepnote_index_column": 984
        },
        {
         "numbers": 987,
         "prime": 0,
         "_deepnote_index_column": 985
        },
        {
         "numbers": 988,
         "prime": 0,
         "_deepnote_index_column": 986
        },
        {
         "numbers": 989,
         "prime": 0,
         "_deepnote_index_column": 987
        },
        {
         "numbers": 990,
         "prime": 0,
         "_deepnote_index_column": 988
        },
        {
         "numbers": 991,
         "prime": 1,
         "_deepnote_index_column": 989
        },
        {
         "numbers": 992,
         "prime": 0,
         "_deepnote_index_column": 990
        },
        {
         "numbers": 993,
         "prime": 0,
         "_deepnote_index_column": 991
        },
        {
         "numbers": 994,
         "prime": 0,
         "_deepnote_index_column": 992
        },
        {
         "numbers": 995,
         "prime": 0,
         "_deepnote_index_column": 993
        },
        {
         "numbers": 996,
         "prime": 0,
         "_deepnote_index_column": 994
        },
        {
         "numbers": 997,
         "prime": 1,
         "_deepnote_index_column": 995
        },
        {
         "numbers": 998,
         "prime": 0,
         "_deepnote_index_column": 996
        },
        {
         "numbers": 999,
         "prime": 0,
         "_deepnote_index_column": 997
        }
       ]
      },
      "text/plain": "     numbers  prime\n0          2      1\n1          3      1\n2          4      0\n3          5      1\n4          6      0\n..       ...    ...\n993      995      0\n994      996      0\n995      997      1\n996      998      0\n997      999      0\n\n[998 rows x 2 columns]",
      "text/html": "<div>\n<style scoped>\n    .dataframe tbody tr th:only-of-type {\n        vertical-align: middle;\n    }\n\n    .dataframe tbody tr th {\n        vertical-align: top;\n    }\n\n    .dataframe thead th {\n        text-align: right;\n    }\n</style>\n<table border=\"1\" class=\"dataframe\">\n  <thead>\n    <tr style=\"text-align: right;\">\n      <th></th>\n      <th>numbers</th>\n      <th>prime</th>\n    </tr>\n  </thead>\n  <tbody>\n    <tr>\n      <th>0</th>\n      <td>2</td>\n      <td>1</td>\n    </tr>\n    <tr>\n      <th>1</th>\n      <td>3</td>\n      <td>1</td>\n    </tr>\n    <tr>\n      <th>2</th>\n      <td>4</td>\n      <td>0</td>\n    </tr>\n    <tr>\n      <th>3</th>\n      <td>5</td>\n      <td>1</td>\n    </tr>\n    <tr>\n      <th>4</th>\n      <td>6</td>\n      <td>0</td>\n    </tr>\n    <tr>\n      <th>...</th>\n      <td>...</td>\n      <td>...</td>\n    </tr>\n    <tr>\n      <th>993</th>\n      <td>995</td>\n      <td>0</td>\n    </tr>\n    <tr>\n      <th>994</th>\n      <td>996</td>\n      <td>0</td>\n    </tr>\n    <tr>\n      <th>995</th>\n      <td>997</td>\n      <td>1</td>\n    </tr>\n    <tr>\n      <th>996</th>\n      <td>998</td>\n      <td>0</td>\n    </tr>\n    <tr>\n      <th>997</th>\n      <td>999</td>\n      <td>0</td>\n    </tr>\n  </tbody>\n</table>\n<p>998 rows × 2 columns</p>\n</div>"
     },
     "metadata": {}
    }
   ]
  },
  {
   "cell_type": "markdown",
   "source": "<a style='text-decoration:none;line-height:16px;display:flex;color:#5B5B62;padding:10px;justify-content:end;' href='https://deepnote.com?utm_source=created-in-deepnote-cell&projectId=34526eb4-012d-4eae-ac4d-720dbf770f4a' target=\"_blank\">\n<img alt='Created in deepnote.com' style='display:inline;max-height:16px;margin:0px;margin-right:7.5px;' src='data:image/svg+xml;base64,PD94bWwgdmVyc2lvbj0iMS4wIiBlbmNvZGluZz0iVVRGLTgiPz4KPHN2ZyB3aWR0aD0iODBweCIgaGVpZ2h0PSI4MHB4IiB2aWV3Qm94PSIwIDAgODAgODAiIHZlcnNpb249IjEuMSIgeG1sbnM9Imh0dHA6Ly93d3cudzMub3JnLzIwMDAvc3ZnIiB4bWxuczp4bGluaz0iaHR0cDovL3d3dy53My5vcmcvMTk5OS94bGluayI+CiAgICA8IS0tIEdlbmVyYXRvcjogU2tldGNoIDU0LjEgKDc2NDkwKSAtIGh0dHBzOi8vc2tldGNoYXBwLmNvbSAtLT4KICAgIDx0aXRsZT5Hcm91cCAzPC90aXRsZT4KICAgIDxkZXNjPkNyZWF0ZWQgd2l0aCBTa2V0Y2guPC9kZXNjPgogICAgPGcgaWQ9IkxhbmRpbmciIHN0cm9rZT0ibm9uZSIgc3Ryb2tlLXdpZHRoPSIxIiBmaWxsPSJub25lIiBmaWxsLXJ1bGU9ImV2ZW5vZGQiPgogICAgICAgIDxnIGlkPSJBcnRib2FyZCIgdHJhbnNmb3JtPSJ0cmFuc2xhdGUoLTEyMzUuMDAwMDAwLCAtNzkuMDAwMDAwKSI+CiAgICAgICAgICAgIDxnIGlkPSJHcm91cC0zIiB0cmFuc2Zvcm09InRyYW5zbGF0ZSgxMjM1LjAwMDAwMCwgNzkuMDAwMDAwKSI+CiAgICAgICAgICAgICAgICA8cG9seWdvbiBpZD0iUGF0aC0yMCIgZmlsbD0iIzAyNjVCNCIgcG9pbnRzPSIyLjM3NjIzNzYyIDgwIDM4LjA0NzY2NjcgODAgNTcuODIxNzgyMiA3My44MDU3NTkyIDU3LjgyMTc4MjIgMzIuNzU5MjczOSAzOS4xNDAyMjc4IDMxLjY4MzE2ODMiPjwvcG9seWdvbj4KICAgICAgICAgICAgICAgIDxwYXRoIGQ9Ik0zNS4wMDc3MTgsODAgQzQyLjkwNjIwMDcsNzYuNDU0OTM1OCA0Ny41NjQ5MTY3LDcxLjU0MjI2NzEgNDguOTgzODY2LDY1LjI2MTk5MzkgQzUxLjExMjI4OTksNTUuODQxNTg0MiA0MS42NzcxNzk1LDQ5LjIxMjIyODQgMjUuNjIzOTg0Niw0OS4yMTIyMjg0IEMyNS40ODQ5Mjg5LDQ5LjEyNjg0NDggMjkuODI2MTI5Niw0My4yODM4MjQ4IDM4LjY0NzU4NjksMzEuNjgzMTY4MyBMNzIuODcxMjg3MSwzMi41NTQ0MjUgTDY1LjI4MDk3Myw2Ny42NzYzNDIxIEw1MS4xMTIyODk5LDc3LjM3NjE0NCBMMzUuMDA3NzE4LDgwIFoiIGlkPSJQYXRoLTIyIiBmaWxsPSIjMDAyODY4Ij48L3BhdGg+CiAgICAgICAgICAgICAgICA8cGF0aCBkPSJNMCwzNy43MzA0NDA1IEwyNy4xMTQ1MzcsMC4yNTcxMTE0MzYgQzYyLjM3MTUxMjMsLTEuOTkwNzE3MDEgODAsMTAuNTAwMzkyNyA4MCwzNy43MzA0NDA1IEM4MCw2NC45NjA0ODgyIDY0Ljc3NjUwMzgsNzkuMDUwMzQxNCAzNC4zMjk1MTEzLDgwIEM0Ny4wNTUzNDg5LDc3LjU2NzA4MDggNTMuNDE4MjY3Nyw3MC4zMTM2MTAzIDUzLjQxODI2NzcsNTguMjM5NTg4NSBDNTMuNDE4MjY3Nyw0MC4xMjg1NTU3IDM2LjMwMzk1NDQsMzcuNzMwNDQwNSAyNS4yMjc0MTcsMzcuNzMwNDQwNSBDMTcuODQzMDU4NiwzNy43MzA0NDA1IDkuNDMzOTE5NjYsMzcuNzMwNDQwNSAwLDM3LjczMDQ0MDUgWiIgaWQ9IlBhdGgtMTkiIGZpbGw9IiMzNzkzRUYiPjwvcGF0aD4KICAgICAgICAgICAgPC9nPgogICAgICAgIDwvZz4KICAgIDwvZz4KPC9zdmc+' > </img>\nCreated in <span style='font-weight:600;margin-left:4px;'>Deepnote</span></a>",
   "metadata": {
    "tags": [],
    "created_in_deepnote_cell": true,
    "deepnote_cell_type": "markdown"
   }
  }
 ],
 "nbformat": 4,
 "nbformat_minor": 2,
 "metadata": {
  "orig_nbformat": 2,
  "deepnote_notebook_id": "e493bbee-93fd-41bd-8288-b60a1c0a7948",
  "deepnote_execution_queue": [],
  "deepnote": {}
 }
}